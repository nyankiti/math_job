{
 "cells": [
  {
   "cell_type": "markdown",
   "id": "636c117a-8dd2-43f9-9be2-c66c6e0ab7e6",
   "metadata": {},
   "source": [
    "参考: https://www.udemy.com/course/pythonstan/learn/lecture/9132038#overview\n",
    "# MAP推定(Maximum a posteriori estimation)\n",
    "最大事後確率推定ともいう。  \n",
    "統計学において、実測データに基づいて未知の量の点推定を行う手法。"
   ]
  },
  {
   "cell_type": "code",
   "execution_count": 2,
   "id": "430876a4-c8f8-4828-b6f8-33c126f3e51e",
   "metadata": {},
   "outputs": [
    {
     "data": {
      "text/html": [
       "<div>\n",
       "<style scoped>\n",
       "    .dataframe tbody tr th:only-of-type {\n",
       "        vertical-align: middle;\n",
       "    }\n",
       "\n",
       "    .dataframe tbody tr th {\n",
       "        vertical-align: top;\n",
       "    }\n",
       "\n",
       "    .dataframe thead th {\n",
       "        text-align: right;\n",
       "    }\n",
       "</style>\n",
       "<table border=\"1\" class=\"dataframe\">\n",
       "  <thead>\n",
       "    <tr style=\"text-align: right;\">\n",
       "      <th></th>\n",
       "      <th>value</th>\n",
       "    </tr>\n",
       "    <tr>\n",
       "      <th>id</th>\n",
       "      <th></th>\n",
       "    </tr>\n",
       "  </thead>\n",
       "  <tbody>\n",
       "    <tr>\n",
       "      <th>1</th>\n",
       "      <td>3.896195</td>\n",
       "    </tr>\n",
       "    <tr>\n",
       "      <th>2</th>\n",
       "      <td>5.865766</td>\n",
       "    </tr>\n",
       "    <tr>\n",
       "      <th>3</th>\n",
       "      <td>5.860887</td>\n",
       "    </tr>\n",
       "    <tr>\n",
       "      <th>4</th>\n",
       "      <td>4.660614</td>\n",
       "    </tr>\n",
       "    <tr>\n",
       "      <th>5</th>\n",
       "      <td>5.263595</td>\n",
       "    </tr>\n",
       "  </tbody>\n",
       "</table>\n",
       "</div>"
      ],
      "text/plain": [
       "       value\n",
       "id          \n",
       "1   3.896195\n",
       "2   5.865766\n",
       "3   5.860887\n",
       "4   4.660614\n",
       "5   5.263595"
      ]
     },
     "execution_count": 2,
     "metadata": {},
     "output_type": "execute_result"
    }
   ],
   "source": [
    "import numpy as np\n",
    "from scipy import optimize\n",
    "import matplotlib.pyplot as plt\n",
    "from scipy import stats\n",
    "import pandas as pd\n",
    "%matplotlib inline\n",
    "\n",
    "df = pd.read_excel(\"data/MAP_sample.xlsx\", index_col=\"id\")\n",
    "df.head(5)"
   ]
  },
  {
   "cell_type": "code",
   "execution_count": 3,
   "id": "e89798d6-3ae3-467d-b74d-9b687bc039a8",
   "metadata": {},
   "outputs": [
    {
     "data": {
      "text/plain": [
       "(array([ 1.,  1.,  5., 12., 10., 18., 16.,  8.,  5.,  4.]),\n",
       " array([2.29193477, 2.77510498, 3.25827519, 3.74144541, 4.22461562,\n",
       "        4.70778584, 5.19095605, 5.67412627, 6.15729648, 6.64046669,\n",
       "        7.12363691]),\n",
       " <BarContainer object of 10 artists>)"
      ]
     },
     "execution_count": 3,
     "metadata": {},
     "output_type": "execute_result"
    },
    {
     "data": {
      "image/png": "[encoded data removed]",
      "text/plain": [
       "<Figure size 640x480 with 1 Axes>"
      ]
     },
     "metadata": {},
     "output_type": "display_data"
    }
   ],
   "source": [
    "# データの可視化\n",
    "plt.hist(df[\"value\"])"
   ]
  },
  {
   "cell_type": "code",
   "execution_count": 5,
   "id": "f85d3dcb-2f6b-4222-8888-1cc6b56e2f33",
   "metadata": {},
   "outputs": [],
   "source": [
    "# 尤度関数(likelihood)を定義\n",
    "def likelihood(mu, *args):\n",
    "    li = -np.log10(stats.norm.pdf(mu, loc=args))\n",
    "    return np.sum(li)"
   ]
  },
  {
   "cell_type": "code",
   "execution_count": 7,
   "id": "3b5af1df-16c7-4c2b-a101-e910ced18f46",
   "metadata": {},
   "outputs": [
    {
     "data": {
      "text/plain": [
       "      fun: 47.655493188879284\n",
       " hess_inv: array([[0.02878231]])\n",
       "      jac: array([4.76837158e-07])\n",
       "  message: 'Optimization terminated successfully.'\n",
       "     nfev: 8\n",
       "      nit: 3\n",
       "     njev: 4\n",
       "   status: 0\n",
       "  success: True\n",
       "        x: array([4.97609903])"
      ]
     },
     "execution_count": 7,
     "metadata": {},
     "output_type": "execute_result"
    }
   ],
   "source": [
    "# optimize.minimizeメソッドは第一引数に与えた関数を自動的に最小化してくれるメソッド。第二引数は初期値\n",
    "optimize.minimize(likelihood, 1, args=df[\"value\"])"
   ]
  },
  {
   "cell_type": "code",
   "execution_count": null,
   "id": "3b58e5a9-3a70-409c-bebd-ec0485d86a89",
   "metadata": {},
   "outputs": [],
   "source": []
  }
 ],
 "metadata": {
  "kernelspec": {
   "display_name": "Python 3 (ipykernel)",
   "language": "python",
   "name": "python3"
  },
  "language_info": {
   "codemirror_mode": {
    "name": "ipython",
    "version": 3
   },
   "file_extension": ".py",
   "mimetype": "text/x-python",
   "name": "python",
   "nbconvert_exporter": "python",
   "pygments_lexer": "ipython3",
   "version": "3.9.13"
  }
 },
 "nbformat": 4,
 "nbformat_minor": 5
}

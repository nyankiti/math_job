{
 "cells": [
  {
   "cell_type": "markdown",
   "id": "dcc01cb7-b85c-4c20-9715-b1fa41bfd402",
   "metadata": {},
   "source": [
    "参考: https://www.udemy.com/course/pythonstan/learn/lecture/9132028#overview\n",
    "# ベイズ更新\n",
    "今手元にあるデータで取り急ぎ計算し、新たなデータを手にしたときに結果を更新していく、というアプローチを取る。 \n",
    "観測データが増えていくと事後分布はどうなる? を考える方法。\n",
    "- データが1個: $p(x|y_1) \\propto p(y_1|x)p(x)$\n",
    "- データが2個: $p(x|y_2) \\propto p(y_2|x)\\underline{p(y_1|x)p(x)} \\propto p(y_2|x)\\underline{p(x|y_1)}$  \n",
    "データが2個の時に、ベイズの定理を利用してデータが1個の時の事後分布を事前分布として利用するということ  \n",
    "※ ベイズの定理\n",
    "$$\n",
    "f(\\theta|D) = \\frac{f(D|\\theta)f(\\theta)}{f(D)}\n",
    "$$\n",
    "$\\theta$: 原因, D: 結果, $f(\\theta|D)$: 事後分布, $f(D|\\theta)$: 尤度関数, $f(\\theta)$: 事前分布, $f(D)$: エビデンス"
   ]
  },
  {
   "cell_type": "code",
   "execution_count": 3,
   "id": "7b807167-b985-4872-adb7-a880b3274d33",
   "metadata": {},
   "outputs": [],
   "source": [
    "import matplotlib.pyplot as plt\n",
    "from scipy.stats import bernoulli\n",
    "import numpy as np\n",
    "import pandas as pd\n",
    "%matplotlib inline\n",
    "plt.style.use(\"ggplot\")"
   ]
  },
  {
   "cell_type": "markdown",
   "id": "ba951a64-705e-47c6-b2b6-1f18178655cc",
   "metadata": {},
   "source": [
    "a の袋には 10 個中 3 個が赤玉  \n",
    "b の袋には 9 個中 5 個が赤玉  \n",
    "$\\frac{1}{2}$でどちらかの袋を選び、復元抽出で7回取り出すと、その結果が**[青、赤、青、青、赤、赤、赤]**だった。  \n",
    "この時m選んだ袋はどっちか？"
   ]
  },
  {
   "cell_type": "code",
   "execution_count": 22,
   "id": "9569ef36-beea-4567-b75e-374395e41194",
   "metadata": {},
   "outputs": [
    {
     "name": "stdout",
     "output_type": "stream",
     "text": [
      "=======1個のデータをベイズ更新した場合========\n",
      "最初に袋 a を選んだ確率は 0.6116504854368932\n",
      "最初に袋 b を選んだ確率は 0.3883495145631068\n",
      "\n",
      "=======2個のデータをベイズ更新した場合========\n",
      "最初に袋 a を選んだ確率は 0.45960551202377736\n",
      "最初に袋 b を選んだ確率は 0.5403944879762227\n",
      "\n",
      "=======3個のデータをベイズ更新した場合========\n",
      "最初に袋 a を選んだ確率は 0.5725650903223393\n",
      "最初に袋 b を選んだ確率は 0.42743490967766057\n",
      "\n",
      "=======4個のデータをベイズ更新した場合========\n",
      "最初に袋 a を選んだ確率は 0.6784329717144618\n",
      "最初に袋 b を選んだ確率は 0.32156702828553824\n",
      "\n",
      "=======5個のデータをベイズ更新した場合========\n",
      "最初に袋 a を選んだ確率は 0.532552275124609\n",
      "最初に袋 b を選んだ確率は 0.4674477248753911\n",
      "\n",
      "=======6個のデータをベイズ更新した場合========\n",
      "最初に袋 a を選んだ確率は 0.38088522289336274\n",
      "最初に袋 b を選んだ確率は 0.6191147771066373\n",
      "\n",
      "=======7個のデータをベイズ更新した場合========\n",
      "最初に袋 a を選んだ確率は 0.2493693215963529\n",
      "最初に袋 b を選んだ確率は 0.7506306784036472\n",
      "\n"
     ]
    }
   ],
   "source": [
    "p_a = 3 /10 # 袋 a から赤玉を抽出する確率\n",
    "p_b = 5 / 9 # 袋 b から赤玉を抽出する確率\n",
    "p_prior = 0.5 # a, b どちらかの袋を選ぶ確率 (事前分布なので p_pripr)\n",
    "#  0: 青, 1: 赤\n",
    "data = [0,1,0,0,1,1,1]\n",
    "\n",
    "N_data = 4 # ベイズ更新でどこまでのデータを使用するか\n",
    "for N_data in range(1, 8):\n",
    "    likehood_a = bernoulli.pmf(data[:N_data], p_a) # a を選択した場合の尤度関数\n",
    "    likehood_b = bernoulli.pmf(data[:N_data], p_b) # a を選択した場合の尤度関数\n",
    "    pa_posterior = p_prior\n",
    "    pb_posterior = p_prior\n",
    "    pa_posterior *= np.prod(likehood_a)\n",
    "    pb_posterior *= np.prod(likehood_b)\n",
    "    norm = pa_posterior + pb_posterior # 規格化定数 \n",
    "    print(f\"======={N_data}個のデータをベイズ更新した場合========\")\n",
    "    print(f\"最初に袋 a を選んだ確率は {pa_posterior/norm}\")\n",
    "    print(f\"最初に袋 b を選んだ確率は {pb_posterior/norm}\")\n",
    "    print()"
   ]
  },
  {
   "cell_type": "markdown",
   "id": "13fd35d0-51ea-4a0b-a1ad-dcf108fb84d0",
   "metadata": {},
   "source": [
    "4個のデータまでベイズ更新した時は、青が3回出ているので、青玉が出る確率の高い a の袋を最初に選んだ確率が高いと推定結果が出ている。  \n",
    "その後、赤玉が連発するので、徐々に赤玉を多く含む b の袋が選ばれた確率が高まる"
   ]
  },
  {
   "cell_type": "code",
   "execution_count": 23,
   "id": "7fc40c9e-3785-4fa8-bad5-2221246b24ea",
   "metadata": {},
   "outputs": [
    {
     "data": {
      "text/plain": [
       "([<matplotlib.axis.XTick at 0x4063c41340>,\n",
       "  <matplotlib.axis.XTick at 0x4063c41310>],\n",
       " [Text(0, 0, 'a'), Text(1, 0, 'b')])"
      ]
     },
     "execution_count": 23,
     "metadata": {},
     "output_type": "execute_result"
    },
    {
     "data": {
      "image/png": "[encoded data removed]",
      "text/plain": [
       "<Figure size 640x480 with 1 Axes>"
      ]
     },
     "metadata": {},
     "output_type": "display_data"
    }
   ],
   "source": [
    "# データの可視化\n",
    "df = pd.DataFrame([pa_posterior/norm, pb_posterior/norm], columns=[\"post\"])\n",
    "x = np.arange(df.shape[0])\n",
    "plt.bar(x, df[\"post\"])\n",
    "plt.xticks(x, [\"a\", \"b\"])"
   ]
  },
  {
   "cell_type": "code",
   "execution_count": null,
   "id": "1418cf06-3d0d-4078-a7fc-a6b627c7b5be",
   "metadata": {},
   "outputs": [],
   "source": []
  }
 ],
 "metadata": {
  "kernelspec": {
   "display_name": "Python 3 (ipykernel)",
   "language": "python",
   "name": "python3"
  },
  "language_info": {
   "codemirror_mode": {
    "name": "ipython",
    "version": 3
   },
   "file_extension": ".py",
   "mimetype": "text/x-python",
   "name": "python",
   "nbconvert_exporter": "python",
   "pygments_lexer": "ipython3",
   "version": "3.9.13"
  }
 },
 "nbformat": 4,
 "nbformat_minor": 5
}

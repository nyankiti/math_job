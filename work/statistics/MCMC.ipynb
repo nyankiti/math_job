{
 "cells": [
  {
   "cell_type": "markdown",
   "id": "e4451066-4734-4f5a-b66e-ba8431a3c7a1",
   "metadata": {},
   "source": [
    "# MCMC(Markov Chain Monte Carlo)"
   ]
  },
  {
   "cell_type": "code",
   "execution_count": null,
   "id": "efa1c881-6739-43b9-bc03-fdb9655777e9",
   "metadata": {},
   "outputs": [],
   "source": []
  }
 ],
 "metadata": {
  "kernelspec": {
   "display_name": "Python 3 (ipykernel)",
   "language": "python",
   "name": "python3"
  },
  "language_info": {
   "codemirror_mode": {
    "name": "ipython",
    "version": 3
   },
   "file_extension": ".py",
   "mimetype": "text/x-python",
   "name": "python",
   "nbconvert_exporter": "python",
   "pygments_lexer": "ipython3",
   "version": "3.9.13"
  }
 },
 "nbformat": 4,
 "nbformat_minor": 5
}

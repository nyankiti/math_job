{
 "cells": [
  {
   "cell_type": "code",
   "execution_count": 8,
   "id": "5b280624-61a0-488c-945a-cf84c19c5322",
   "metadata": {},
   "outputs": [],
   "source": [
    "import glob\n",
    "import csv\n",
    "\n",
    "testfiles = glob.glob(\"./test/*\")\n",
    "with open(\"./test/result.csv\", \"w\") as csv_file:\n",
    "    writer = csv.writer(csv_file)\n",
    "    \n",
    "    for file in testfiles:\n",
    "        file_name = file[7:]\n",
    "        writer.writerow([])\n",
    "        with open(file) as f:\n",
    "            lines = f.readlines()\n",
    "            lines_strip = [line.strip() for line in lines] ex \n",
    "            flg = False\n",
    "            root_section = []\n",
    "            title = []\n",
    "            for line in lines_strip:\n",
    "                if line.startswith(\"#\"):\n",
    "                    root_section.append(line)\n",
    "                if line == \"\" and flg == False:\n",
    "                    flg = True\n",
    "                    continue\n",
    "                if line == \"\" and flg == True:\n",
    "                    # print(file, \"title :\", *title)\n",
    "                    writer.writerow([file_name, \"root_section\", *root_section])\n",
    "                    if len(title) > 0:\n",
    "                        writer.writerow([\"\", \"title\", title[0]])\n",
    "                        writer.writerow([\"\", \"description\", *title[1:]])\n",
    "                    break\n",
    "\n",
    "                if flg:\n",
    "                    title.append(line)\n",
    "                "
   ]
  },
  {
   "cell_type": "code",
   "execution_count": null,
   "id": "a03a28a0-5037-4a83-b160-ef363f239207",
   "metadata": {},
   "outputs": [],
   "source": []
  }
 ],
 "metadata": {
  "kernelspec": {
   "display_name": "Python 3 (ipykernel)",
   "language": "python",
   "name": "python3"
  },
  "language_info": {
   "codemirror_mode": {
    "name": "ipython",
    "version": 3
   },
   "file_extension": ".py",
   "mimetype": "text/x-python",
   "name": "python",
   "nbconvert_exporter": "python",
   "pygments_lexer": "ipython3",
   "version": "3.9.12"
  }
 },
 "nbformat": 4,
 "nbformat_minor": 5
}

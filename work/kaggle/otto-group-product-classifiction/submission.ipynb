{
 "cells": [
  {
   "cell_type": "markdown",
   "id": "3af095c0-64e5-4373-9d3d-0dacebc38dc6",
   "metadata": {},
   "source": [
    "`train.ipynb`にて決定したモデルを用いて提出ファイルを作成する"
   ]
  },
  {
   "cell_type": "code",
   "execution_count": 4,
   "id": "f4dd2f46-218a-4eaf-9634-dcecc754a130",
   "metadata": {},
   "outputs": [],
   "source": [
    "import pandas as pd\n",
    "import seaborn as sns\n",
    "from sklearn.preprocessing import LabelEncoder\n",
    "from sklearn.model_selection import train_test_split\n",
    "import matplotlib.pyplot as plt\n",
    "train_df = pd.read_csv(\"train.csv\")\n",
    "X_test = pd.read_csv(\"test.csv\")\n",
    "\n",
    "# 前処理\n",
    "# idカラムは特徴量ではないのでdropしておく\n",
    "train_df.drop([\"id\"], axis=1, inplace=True)\n",
    "X_test.drop([\"id\"], axis=1, inplace=True)\n",
    "\n",
    "# targetのラベルエンコーディング\n",
    "le = LabelEncoder()\n",
    "train_df[\"target\"] = le.fit_transform(train_df[\"target\"])\n",
    "\n",
    "X_train = train_df.drop([\"target\"], axis=1)\n",
    "y_train = train_df[\"target\"]"
   ]
  },
  {
   "cell_type": "markdown",
   "id": "135fb5f9-d087-4967-a3d1-130a45090775",
   "metadata": {},
   "source": [
    "### ランダムフォレストを選択"
   ]
  },
  {
   "cell_type": "code",
   "execution_count": null,
   "id": "2945cf8b-fec6-44d3-8ea6-a4986c48da27",
   "metadata": {},
   "outputs": [],
   "source": [
    "from sklearn.ensemble import RandomForestClassifier\n",
    "rfc = RandomForestClassifier()\n",
    "rfc.fit(X_train, y_train)"
   ]
  },
  {
   "cell_type": "code",
   "execution_count": 16,
   "id": "64b073ee-99b9-4d60-81df-8d32653cd58a",
   "metadata": {},
   "outputs": [
    {
     "data": {
      "text/html": [
       "<div>\n",
       "<style scoped>\n",
       "    .dataframe tbody tr th:only-of-type {\n",
       "        vertical-align: middle;\n",
       "    }\n",
       "\n",
       "    .dataframe tbody tr th {\n",
       "        vertical-align: top;\n",
       "    }\n",
       "\n",
       "    .dataframe thead th {\n",
       "        text-align: right;\n",
       "    }\n",
       "</style>\n",
       "<table border=\"1\" class=\"dataframe\">\n",
       "  <thead>\n",
       "    <tr style=\"text-align: right;\">\n",
       "      <th></th>\n",
       "      <th>id</th>\n",
       "      <th>Class_1</th>\n",
       "      <th>Class_2</th>\n",
       "      <th>Class_3</th>\n",
       "      <th>Class_4</th>\n",
       "      <th>Class_5</th>\n",
       "      <th>Class_6</th>\n",
       "      <th>Class_7</th>\n",
       "      <th>Class_8</th>\n",
       "      <th>Class_9</th>\n",
       "    </tr>\n",
       "  </thead>\n",
       "  <tbody>\n",
       "    <tr>\n",
       "      <th>0</th>\n",
       "      <td>1</td>\n",
       "      <td>0.01</td>\n",
       "      <td>0.25</td>\n",
       "      <td>0.22</td>\n",
       "      <td>0.45</td>\n",
       "      <td>0.0</td>\n",
       "      <td>0.02</td>\n",
       "      <td>0.05</td>\n",
       "      <td>0.00</td>\n",
       "      <td>0.00</td>\n",
       "    </tr>\n",
       "    <tr>\n",
       "      <th>1</th>\n",
       "      <td>2</td>\n",
       "      <td>0.01</td>\n",
       "      <td>0.02</td>\n",
       "      <td>0.02</td>\n",
       "      <td>0.00</td>\n",
       "      <td>0.0</td>\n",
       "      <td>0.52</td>\n",
       "      <td>0.01</td>\n",
       "      <td>0.38</td>\n",
       "      <td>0.04</td>\n",
       "    </tr>\n",
       "    <tr>\n",
       "      <th>2</th>\n",
       "      <td>3</td>\n",
       "      <td>0.00</td>\n",
       "      <td>0.00</td>\n",
       "      <td>0.00</td>\n",
       "      <td>0.00</td>\n",
       "      <td>0.0</td>\n",
       "      <td>0.99</td>\n",
       "      <td>0.00</td>\n",
       "      <td>0.01</td>\n",
       "      <td>0.00</td>\n",
       "    </tr>\n",
       "  </tbody>\n",
       "</table>\n",
       "</div>"
      ],
      "text/plain": [
       "   id  Class_1  Class_2  Class_3  Class_4  Class_5  Class_6  Class_7  Class_8  \\\n",
       "0   1     0.01     0.25     0.22     0.45      0.0     0.02     0.05     0.00   \n",
       "1   2     0.01     0.02     0.02     0.00      0.0     0.52     0.01     0.38   \n",
       "2   3     0.00     0.00     0.00     0.00      0.0     0.99     0.00     0.01   \n",
       "\n",
       "   Class_9  \n",
       "0     0.00  \n",
       "1     0.04  \n",
       "2     0.00  "
      ]
     },
     "execution_count": 16,
     "metadata": {},
     "output_type": "execute_result"
    }
   ],
   "source": [
    "rfc_pred = rfc.predict_proba(X_test)\n",
    "# 提出のため、idを復活させる\n",
    "rfc_pred_with_id = [[i+1]+row.tolist() for i, row in enumerate(rfc_pred)]\n",
    "\n",
    "predictions = pd.DataFrame(rfc_pred_with_id, columns = ['id', 'Class_1','Class_2','Class_3','Class_4','Class_5','Class_6','Class_7','Class_8','Class_9'])\n",
    "predictions.head(3)"
   ]
  },
  {
   "cell_type": "code",
   "execution_count": 17,
   "id": "a3f8348c-16eb-421a-91a5-5ca2ccc19fe3",
   "metadata": {},
   "outputs": [],
   "source": [
    "predictions.to_csv(\"submissions/rfc_submission.csv\", index=False, header=1)"
   ]
  },
  {
   "cell_type": "markdown",
   "id": "4585ab55-8044-4359-86b0-905c69c9c0e0",
   "metadata": {},
   "source": [
    "### LightGBMを選択"
   ]
  },
  {
   "cell_type": "code",
   "execution_count": 20,
   "id": "22d22ad1-3922-4726-b4df-0e1633685088",
   "metadata": {},
   "outputs": [],
   "source": [
    "import lightgbm as lgb\n",
    "\n",
    "lgbmc = lgb.LGBMClassifier(boosting_type=\"goss\", max_depth=5, random_state=0)\n",
    "lgbmc.fit(X_train, y_train)\n",
    "\n",
    "rgbmc_pred = lgbmc.predict_proba(X_test)\n",
    "# 提出のため、idを復活させる\n",
    "rgbmc_pred_with_id = [[i+1]+row.tolist() for i, row in enumerate(rgbmc_pred)]\n",
    "\n",
    "predictions = pd.DataFrame(rgbmc_pred_with_id, columns = ['id', 'Class_1','Class_2','Class_3','Class_4','Class_5','Class_6','Class_7','Class_8','Class_9'])\n",
    "predictions.head(3)\n",
    "predictions.to_csv(\"submissions/rgbm_submission.csv\", index=False, header=1)\n"
   ]
  },
  {
   "cell_type": "code",
   "execution_count": null,
   "id": "9b7c73bd-f0bb-4990-b6f6-6e36a9bfde33",
   "metadata": {},
   "outputs": [],
   "source": []
  }
 ],
 "metadata": {
  "kernelspec": {
   "display_name": "Python 3 (ipykernel)",
   "language": "python",
   "name": "python3"
  },
  "language_info": {
   "codemirror_mode": {
    "name": "ipython",
    "version": 3
   },
   "file_extension": ".py",
   "mimetype": "text/x-python",
   "name": "python",
   "nbconvert_exporter": "python",
   "pygments_lexer": "ipython3",
   "version": "3.9.13"
  }
 },
 "nbformat": 4,
 "nbformat_minor": 5
}

{
 "cells": [
  {
   "cell_type": "markdown",
   "id": "868a8e6c-df34-47fa-aaa5-824c1b0255c4",
   "metadata": {},
   "source": [
    "## 正規化項\n",
    "### Ridge"
   ]
  },
  {
   "cell_type": "code",
   "execution_count": 33,
   "id": "d1cf40dc-23fe-4b63-b879-16229bbd8c54",
   "metadata": {},
   "outputs": [],
   "source": [
    "import pandas as pd\n",
    "import numpy as np\n",
    "from sklearn.model_selection import train_test_split\n",
    "from sklearn.preprocessing import StandardScaler\n",
    "from sklearn.linear_model import Ridge, LinearRegression\n",
    "from sklearn.metrics import mean_squared_error, mean_absolute_error\n",
    "import matplotlib.pyplot as plt"
   ]
  },
  {
   "cell_type": "code",
   "execution_count": 17,
   "id": "877758c0-51f4-4a81-8935-5a2456cdabb6",
   "metadata": {},
   "outputs": [
    {
     "data": {
      "text/html": [
       "<div>\n",
       "<style scoped>\n",
       "    .dataframe tbody tr th:only-of-type {\n",
       "        vertical-align: middle;\n",
       "    }\n",
       "\n",
       "    .dataframe tbody tr th {\n",
       "        vertical-align: top;\n",
       "    }\n",
       "\n",
       "    .dataframe thead th {\n",
       "        text-align: right;\n",
       "    }\n",
       "</style>\n",
       "<table border=\"1\" class=\"dataframe\">\n",
       "  <thead>\n",
       "    <tr style=\"text-align: right;\">\n",
       "      <th></th>\n",
       "      <th>AtBat</th>\n",
       "      <th>Hits</th>\n",
       "      <th>HmRun</th>\n",
       "      <th>Runs</th>\n",
       "      <th>RBI</th>\n",
       "      <th>Walks</th>\n",
       "      <th>Years</th>\n",
       "      <th>CAtBat</th>\n",
       "      <th>CHits</th>\n",
       "      <th>CHmRun</th>\n",
       "      <th>CRuns</th>\n",
       "      <th>CRBI</th>\n",
       "      <th>CWalks</th>\n",
       "      <th>PutOuts</th>\n",
       "      <th>Assists</th>\n",
       "      <th>Errors</th>\n",
       "      <th>Salary</th>\n",
       "    </tr>\n",
       "  </thead>\n",
       "  <tbody>\n",
       "    <tr>\n",
       "      <th>count</th>\n",
       "      <td>322.000000</td>\n",
       "      <td>322.000000</td>\n",
       "      <td>322.000000</td>\n",
       "      <td>322.000000</td>\n",
       "      <td>322.000000</td>\n",
       "      <td>322.000000</td>\n",
       "      <td>322.000000</td>\n",
       "      <td>322.00000</td>\n",
       "      <td>322.000000</td>\n",
       "      <td>322.000000</td>\n",
       "      <td>322.000000</td>\n",
       "      <td>322.000000</td>\n",
       "      <td>322.000000</td>\n",
       "      <td>322.000000</td>\n",
       "      <td>322.000000</td>\n",
       "      <td>322.000000</td>\n",
       "      <td>263.000000</td>\n",
       "    </tr>\n",
       "    <tr>\n",
       "      <th>mean</th>\n",
       "      <td>380.928571</td>\n",
       "      <td>101.024845</td>\n",
       "      <td>10.770186</td>\n",
       "      <td>50.909938</td>\n",
       "      <td>48.027950</td>\n",
       "      <td>38.742236</td>\n",
       "      <td>7.444099</td>\n",
       "      <td>2648.68323</td>\n",
       "      <td>717.571429</td>\n",
       "      <td>69.490683</td>\n",
       "      <td>358.795031</td>\n",
       "      <td>330.118012</td>\n",
       "      <td>260.239130</td>\n",
       "      <td>288.937888</td>\n",
       "      <td>106.913043</td>\n",
       "      <td>8.040373</td>\n",
       "      <td>535.925882</td>\n",
       "    </tr>\n",
       "    <tr>\n",
       "      <th>std</th>\n",
       "      <td>153.404981</td>\n",
       "      <td>46.454741</td>\n",
       "      <td>8.709037</td>\n",
       "      <td>26.024095</td>\n",
       "      <td>26.166895</td>\n",
       "      <td>21.639327</td>\n",
       "      <td>4.926087</td>\n",
       "      <td>2324.20587</td>\n",
       "      <td>654.472627</td>\n",
       "      <td>86.266061</td>\n",
       "      <td>334.105886</td>\n",
       "      <td>333.219617</td>\n",
       "      <td>267.058085</td>\n",
       "      <td>280.704614</td>\n",
       "      <td>136.854876</td>\n",
       "      <td>6.368359</td>\n",
       "      <td>451.118681</td>\n",
       "    </tr>\n",
       "    <tr>\n",
       "      <th>min</th>\n",
       "      <td>16.000000</td>\n",
       "      <td>1.000000</td>\n",
       "      <td>0.000000</td>\n",
       "      <td>0.000000</td>\n",
       "      <td>0.000000</td>\n",
       "      <td>0.000000</td>\n",
       "      <td>1.000000</td>\n",
       "      <td>19.00000</td>\n",
       "      <td>4.000000</td>\n",
       "      <td>0.000000</td>\n",
       "      <td>1.000000</td>\n",
       "      <td>0.000000</td>\n",
       "      <td>0.000000</td>\n",
       "      <td>0.000000</td>\n",
       "      <td>0.000000</td>\n",
       "      <td>0.000000</td>\n",
       "      <td>67.500000</td>\n",
       "    </tr>\n",
       "    <tr>\n",
       "      <th>25%</th>\n",
       "      <td>255.250000</td>\n",
       "      <td>64.000000</td>\n",
       "      <td>4.000000</td>\n",
       "      <td>30.250000</td>\n",
       "      <td>28.000000</td>\n",
       "      <td>22.000000</td>\n",
       "      <td>4.000000</td>\n",
       "      <td>816.75000</td>\n",
       "      <td>209.000000</td>\n",
       "      <td>14.000000</td>\n",
       "      <td>100.250000</td>\n",
       "      <td>88.750000</td>\n",
       "      <td>67.250000</td>\n",
       "      <td>109.250000</td>\n",
       "      <td>7.000000</td>\n",
       "      <td>3.000000</td>\n",
       "      <td>190.000000</td>\n",
       "    </tr>\n",
       "    <tr>\n",
       "      <th>50%</th>\n",
       "      <td>379.500000</td>\n",
       "      <td>96.000000</td>\n",
       "      <td>8.000000</td>\n",
       "      <td>48.000000</td>\n",
       "      <td>44.000000</td>\n",
       "      <td>35.000000</td>\n",
       "      <td>6.000000</td>\n",
       "      <td>1928.00000</td>\n",
       "      <td>508.000000</td>\n",
       "      <td>37.500000</td>\n",
       "      <td>247.000000</td>\n",
       "      <td>220.500000</td>\n",
       "      <td>170.500000</td>\n",
       "      <td>212.000000</td>\n",
       "      <td>39.500000</td>\n",
       "      <td>6.000000</td>\n",
       "      <td>425.000000</td>\n",
       "    </tr>\n",
       "    <tr>\n",
       "      <th>75%</th>\n",
       "      <td>512.000000</td>\n",
       "      <td>137.000000</td>\n",
       "      <td>16.000000</td>\n",
       "      <td>69.000000</td>\n",
       "      <td>64.750000</td>\n",
       "      <td>53.000000</td>\n",
       "      <td>11.000000</td>\n",
       "      <td>3924.25000</td>\n",
       "      <td>1059.250000</td>\n",
       "      <td>90.000000</td>\n",
       "      <td>526.250000</td>\n",
       "      <td>426.250000</td>\n",
       "      <td>339.250000</td>\n",
       "      <td>325.000000</td>\n",
       "      <td>166.000000</td>\n",
       "      <td>11.000000</td>\n",
       "      <td>750.000000</td>\n",
       "    </tr>\n",
       "    <tr>\n",
       "      <th>max</th>\n",
       "      <td>687.000000</td>\n",
       "      <td>238.000000</td>\n",
       "      <td>40.000000</td>\n",
       "      <td>130.000000</td>\n",
       "      <td>121.000000</td>\n",
       "      <td>105.000000</td>\n",
       "      <td>24.000000</td>\n",
       "      <td>14053.00000</td>\n",
       "      <td>4256.000000</td>\n",
       "      <td>548.000000</td>\n",
       "      <td>2165.000000</td>\n",
       "      <td>1659.000000</td>\n",
       "      <td>1566.000000</td>\n",
       "      <td>1378.000000</td>\n",
       "      <td>492.000000</td>\n",
       "      <td>32.000000</td>\n",
       "      <td>2460.000000</td>\n",
       "    </tr>\n",
       "  </tbody>\n",
       "</table>\n",
       "</div>"
      ],
      "text/plain": [
       "            AtBat        Hits       HmRun        Runs         RBI       Walks  \\\n",
       "count  322.000000  322.000000  322.000000  322.000000  322.000000  322.000000   \n",
       "mean   380.928571  101.024845   10.770186   50.909938   48.027950   38.742236   \n",
       "std    153.404981   46.454741    8.709037   26.024095   26.166895   21.639327   \n",
       "min     16.000000    1.000000    0.000000    0.000000    0.000000    0.000000   \n",
       "25%    255.250000   64.000000    4.000000   30.250000   28.000000   22.000000   \n",
       "50%    379.500000   96.000000    8.000000   48.000000   44.000000   35.000000   \n",
       "75%    512.000000  137.000000   16.000000   69.000000   64.750000   53.000000   \n",
       "max    687.000000  238.000000   40.000000  130.000000  121.000000  105.000000   \n",
       "\n",
       "            Years       CAtBat        CHits      CHmRun        CRuns  \\\n",
       "count  322.000000    322.00000   322.000000  322.000000   322.000000   \n",
       "mean     7.444099   2648.68323   717.571429   69.490683   358.795031   \n",
       "std      4.926087   2324.20587   654.472627   86.266061   334.105886   \n",
       "min      1.000000     19.00000     4.000000    0.000000     1.000000   \n",
       "25%      4.000000    816.75000   209.000000   14.000000   100.250000   \n",
       "50%      6.000000   1928.00000   508.000000   37.500000   247.000000   \n",
       "75%     11.000000   3924.25000  1059.250000   90.000000   526.250000   \n",
       "max     24.000000  14053.00000  4256.000000  548.000000  2165.000000   \n",
       "\n",
       "              CRBI       CWalks      PutOuts     Assists      Errors  \\\n",
       "count   322.000000   322.000000   322.000000  322.000000  322.000000   \n",
       "mean    330.118012   260.239130   288.937888  106.913043    8.040373   \n",
       "std     333.219617   267.058085   280.704614  136.854876    6.368359   \n",
       "min       0.000000     0.000000     0.000000    0.000000    0.000000   \n",
       "25%      88.750000    67.250000   109.250000    7.000000    3.000000   \n",
       "50%     220.500000   170.500000   212.000000   39.500000    6.000000   \n",
       "75%     426.250000   339.250000   325.000000  166.000000   11.000000   \n",
       "max    1659.000000  1566.000000  1378.000000  492.000000   32.000000   \n",
       "\n",
       "            Salary  \n",
       "count   263.000000  \n",
       "mean    535.925882  \n",
       "std     451.118681  \n",
       "min      67.500000  \n",
       "25%     190.000000  \n",
       "50%     425.000000  \n",
       "75%     750.000000  \n",
       "max    2460.000000  "
      ]
     },
     "execution_count": 17,
     "metadata": {},
     "output_type": "execute_result"
    }
   ],
   "source": [
    "df = pd.read_csv(\"https://raw.githubusercontent.com/kirenz/datasets/master/Hitters.csv\")\n",
    "df.describe()"
   ]
  },
  {
   "cell_type": "code",
   "execution_count": 18,
   "id": "4f194ace-97cd-4455-b519-444125a05413",
   "metadata": {},
   "outputs": [],
   "source": [
    "# 欠損値対応\n",
    "df.dropna(inplace=True)"
   ]
  },
  {
   "cell_type": "code",
   "execution_count": 19,
   "id": "3c85e22c-9660-48ce-8b0d-8ca10411b1c2",
   "metadata": {},
   "outputs": [],
   "source": [
    "# データの準備\n",
    "y_col = \"Salary\"\n",
    "X = df.loc[:, df.columns!=y_col]\n",
    "y = df[y_col]\n",
    "\n",
    "# 標準化のために、値が数字のカラムのみを取得する\n",
    "numeric_cols = X.select_dtypes(include=np.number).columns.to_list()\n",
    "\n",
    "# ダミー変数を作成(カテゴリー変数を0, 1の数字に変換)\n",
    "X = pd.get_dummies(X, drop_first=True)\n",
    "\n",
    "# hold-out\n",
    "X_train, X_test, y_train, y_test = train_test_split(X, y, test_size=0.3, random_state=0)\n",
    "\n",
    "# 標準化\n",
    "scaler = StandardScaler()\n",
    "X_train[numeric_cols] = scaler.fit_transform(X_train[numeric_cols])\n",
    "# テスト用の値も、学習用のデータでfitしたscalerを用いるので注意\n",
    "X_test[numeric_cols] = scaler.transform(X_test[numeric_cols])"
   ]
  },
  {
   "cell_type": "code",
   "execution_count": 28,
   "id": "a31cedd4-4841-472b-818f-26eadc6d2489",
   "metadata": {},
   "outputs": [
    {
     "name": "stdout",
     "output_type": "stream",
     "text": [
      "118513.26135456577\n",
      "251.0105804238488\n"
     ]
    },
    {
     "data": {
      "text/plain": [
       "array([-255.99352472,  265.41620796,   49.85450911,  -43.4415344 ,\n",
       "          6.40827279,  126.64463957,  -39.99788141, -180.02267219,\n",
       "        242.39467113,  -36.09606293,  281.13852012,   46.31799934,\n",
       "       -164.64027314,   70.88806172,   41.295514  ,  -34.06922615,\n",
       "         -8.54724705,  -97.91075067,   35.72441367])"
      ]
     },
     "execution_count": 28,
     "metadata": {},
     "output_type": "execute_result"
    }
   ],
   "source": [
    "# モデル学習\n",
    "ridge_model = Ridge()\n",
    "ridge_model.fit(X_train, y_train)\n",
    "\n",
    "# 予測\n",
    "y_pred = ridge_model.predict(X_test)\n",
    "\n",
    "mse = mean_squared_error(y_test, y_pred)\n",
    "mae = mean_absolute_error(y_test, y_pred)\n",
    "print(mse)\n",
    "print(mae)\n",
    "\n",
    "ridge_model.coef_"
   ]
  },
  {
   "cell_type": "markdown",
   "id": "18c4e5ab-4821-41af-b010-a76be03b47c7",
   "metadata": {},
   "source": [
    "通常の線形回帰と比較してみる"
   ]
  },
  {
   "cell_type": "code",
   "execution_count": 30,
   "id": "44a5d52e-e5f2-4552-ba3c-13484cf3b6ec",
   "metadata": {},
   "outputs": [
    {
     "data": {
      "text/plain": [
       "array([-269.10981701,  272.90887884,   59.97669544,  -55.37512444,\n",
       "          3.61504229,  131.08295524,  -14.78202567, -514.20110584,\n",
       "        550.22369897,  -12.29554582,  299.04286135,    4.60615938,\n",
       "       -156.78117836,   73.32237801,   54.94973217,  -35.64306984,\n",
       "          1.59251626,  -95.02251105,   28.46798552])"
      ]
     },
     "execution_count": 30,
     "metadata": {},
     "output_type": "execute_result"
    }
   ],
   "source": [
    "lr_model = LinearRegression()\n",
    "lr_model.fit(X_train, y_train)\n",
    "\n",
    "# 予測\n",
    "y_pred = lr_model.predict(X_test)\n",
    "\n",
    "\n",
    "lr_model.coef_"
   ]
  },
  {
   "cell_type": "markdown",
   "id": "42bdf67e-9ccd-4eed-90fb-e306e1530678",
   "metadata": {},
   "source": [
    "#### ridgeの時の方が、線形回帰に比べて、全体的に係数θが小さくなっていることがわかる！\n",
    "\n",
    "### 次に、様々なλでRidgeの精度を比較する\n",
    "- $\\lambda = 10^{-3} ~ 10^3 $\n",
    "- 評価指標はMSE\n",
    "- λを増加させたときのMSEの推移をplot\n",
    "- λを増加させたときの特徴量の係数$\\theta_j$の推移をplot"
   ]
  },
  {
   "cell_type": "code",
   "execution_count": 41,
   "id": "fd22fdd0-5275-4d6c-b67f-f3c9bf99a608",
   "metadata": {},
   "outputs": [
    {
     "data": {
      "text/plain": [
       "Text(0, 0.5, 'test MSE')"
      ]
     },
     "execution_count": 41,
     "metadata": {},
     "output_type": "execute_result"
    },
    {
     "data": {
      "image/png": "[encoded data removed]",
      "text/plain": [
       "<Figure size 432x288 with 1 Axes>"
      ]
     },
     "metadata": {
      "needs_background": "light"
     },
     "output_type": "display_data"
    }
   ],
   "source": [
    "# lambda_list = np.linspace(0.001, 1000, 100)\n",
    "# linespaceよりlogspaceの方が良い適切な幅を作成してくれる\n",
    "lambda_list = np.logspace(-3, 3, 100)\n",
    "\n",
    "mse_list = []\n",
    "coefs = []\n",
    "for lmd in lambda_list:\n",
    "    # モデル学習\n",
    "    ridge_model = Ridge(alpha=lmd)\n",
    "    ridge_model.fit(X_train, y_train)\n",
    "\n",
    "    # 予測\n",
    "    y_pred = ridge_model.predict(X_test)\n",
    "\n",
    "    mse = mean_squared_error(y_test, y_pred)\n",
    "    mse_list.append(mse)\n",
    "    coefs.append(ridge_model.coef_)\n",
    "    \n",
    "plt.plot(lambda_list, mse_list, \"x-r\")\n",
    "# スケールをlogにすると見やすい(片対数グラフにする)\n",
    "plt.xscale(\"log\")\n",
    "plt.xlabel(\"lambda\")\n",
    "plt.ylabel(\"test MSE\")"
   ]
  },
  {
   "cell_type": "code",
   "execution_count": 42,
   "id": "c7ae0693-750e-4c69-ae62-4f83678ce64d",
   "metadata": {},
   "outputs": [
    {
     "data": {
      "text/plain": [
       "Text(0, 0.5, 'standardized coefficients')"
      ]
     },
     "execution_count": 42,
     "metadata": {},
     "output_type": "execute_result"
    },
    {
     "data": {
      "image/png": "[encoded data removed]",
      "text/plain": [
       "<Figure size 432x288 with 1 Axes>"
      ]
     },
     "metadata": {
      "needs_background": "light"
     },
     "output_type": "display_data"
    }
   ],
   "source": [
    "plt.plot(lambda_list, coefs)\n",
    "plt.xscale(\"log\")\n",
    "plt.xlabel(\"lambda\")\n",
    "plt.ylabel(\"standardized coefficients\")"
   ]
  },
  {
   "cell_type": "code",
   "execution_count": null,
   "id": "a7ef4069-2f57-46fc-bb26-b6846c36abb3",
   "metadata": {},
   "outputs": [],
   "source": []
  }
 ],
 "metadata": {
  "kernelspec": {
   "display_name": "Python 3 (ipykernel)",
   "language": "python",
   "name": "python3"
  },
  "language_info": {
   "codemirror_mode": {
    "name": "ipython",
    "version": 3
   },
   "file_extension": ".py",
   "mimetype": "text/x-python",
   "name": "python",
   "nbconvert_exporter": "python",
   "pygments_lexer": "ipython3",
   "version": "3.9.12"
  }
 },
 "nbformat": 4,
 "nbformat_minor": 5
}

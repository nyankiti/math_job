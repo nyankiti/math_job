{
 "cells": [
  {
   "cell_type": "markdown",
   "id": "29ae9df7-58d3-4e76-81d0-d18ecfdc3f66",
   "metadata": {},
   "source": [
    "# 回帰の評価指標"
   ]
  },
  {
   "cell_type": "code",
   "execution_count": 4,
   "id": "7c0a485e-7e32-4ea0-9070-cfcc3fbcedc9",
   "metadata": {},
   "outputs": [],
   "source": [
    "import seaborn as sns\n",
    "from sklearn.model_selection import train_test_split\n",
    "from sklearn.linear_model import LinearRegression\n",
    "\n",
    "# データの準備\n",
    "df = sns.load_dataset(\"tips\")\n",
    "X = df[\"total_bill\"].values.reshape(-1, 1)\n",
    "y = df[\"tip\"].values\n",
    "\n",
    "# hold-out\n",
    "X_train, X_test, y_train, y_test= train_test_split(X, y, test_size=0.3, random_state=0)"
   ]
  },
  {
   "cell_type": "code",
   "execution_count": 5,
   "id": "a8852c61-a5ab-46f9-a900-e298ca51646a",
   "metadata": {},
   "outputs": [],
   "source": [
    "# 学習の実行\n",
    "model = LinearRegression()\n",
    "model.fit(X_train, y_train)\n",
    "\n",
    "# 予測\n",
    "y_pred = model.predict(X_test)"
   ]
  },
  {
   "cell_type": "markdown",
   "id": "4b6f7364-7184-45a7-b34a-8f0fa425bb34",
   "metadata": {},
   "source": [
    "### MSE(Mean Squared Error)"
   ]
  },
  {
   "cell_type": "code",
   "execution_count": 6,
   "id": "6356d80f-4ce8-4858-a66f-92ec0484c259",
   "metadata": {},
   "outputs": [
    {
     "data": {
      "text/plain": [
       "0.871184553753995"
      ]
     },
     "execution_count": 6,
     "metadata": {},
     "output_type": "execute_result"
    }
   ],
   "source": [
    "from sklearn.metrics import mean_squared_error\n",
    "mean_squared_error(y_test, y_pred)"
   ]
  },
  {
   "cell_type": "markdown",
   "id": "9acbe318-b36c-4a51-8bb3-fec3827cd95d",
   "metadata": {},
   "source": [
    "### RMSE(Root Mean Squared Error)"
   ]
  },
  {
   "cell_type": "code",
   "execution_count": 8,
   "id": "eca18bb5-ee47-4f63-bea4-d31f8a21106f",
   "metadata": {},
   "outputs": [
    {
     "name": "stdout",
     "output_type": "stream",
     "text": [
      "0.9333726767770711\n",
      "0.9333726767770711\n"
     ]
    }
   ],
   "source": [
    "import numpy as np\n",
    "print(mean_squared_error(y_test, y_pred, squared=False))\n",
    "print(np.sqrt(mean_squared_error(y_test, y_pred)))"
   ]
  },
  {
   "cell_type": "markdown",
   "id": "4eafcc6b-6f45-41fa-88a1-6e41db6ff868",
   "metadata": {},
   "source": [
    "### MAE(Mean Absolute Error)"
   ]
  },
  {
   "cell_type": "code",
   "execution_count": 9,
   "id": "d91b30f2-3d13-4f33-b193-159c227ed2d1",
   "metadata": {},
   "outputs": [
    {
     "data": {
      "text/plain": [
       "0.6903119067790222"
      ]
     },
     "execution_count": 9,
     "metadata": {},
     "output_type": "execute_result"
    }
   ],
   "source": [
    "from sklearn.metrics import mean_absolute_error\n",
    "mean_absolute_error(y_test, y_pred)"
   ]
  },
  {
   "cell_type": "markdown",
   "id": "de611d52-4a71-4d06-8ad9-c24375814859",
   "metadata": {},
   "source": [
    "### R-Squared(決定係数)"
   ]
  },
  {
   "cell_type": "code",
   "execution_count": 10,
   "id": "2895d96b-b7dc-4dc9-ba13-a0d88794ec34",
   "metadata": {},
   "outputs": [
    {
     "data": {
      "text/plain": [
       "0.49515102188632765"
      ]
     },
     "execution_count": 10,
     "metadata": {},
     "output_type": "execute_result"
    }
   ],
   "source": [
    "from sklearn.metrics import r2_score\n",
    "r2_score(y_test, y_pred)"
   ]
  },
  {
   "cell_type": "markdown",
   "id": "1fd43478-ffd3-4ec2-9d04-4d4fd7787440",
   "metadata": {},
   "source": []
  }
 ],
 "metadata": {
  "kernelspec": {
   "display_name": "Python 3 (ipykernel)",
   "language": "python",
   "name": "python3"
  },
  "language_info": {
   "codemirror_mode": {
    "name": "ipython",
    "version": 3
   },
   "file_extension": ".py",
   "mimetype": "text/x-python",
   "name": "python",
   "nbconvert_exporter": "python",
   "pygments_lexer": "ipython3",
   "version": "3.9.12"
  }
 },
 "nbformat": 4,
 "nbformat_minor": 5
}

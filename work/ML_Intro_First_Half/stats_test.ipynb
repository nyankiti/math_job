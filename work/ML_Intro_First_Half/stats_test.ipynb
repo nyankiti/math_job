{
 "cells": [
  {
   "cell_type": "markdown",
   "id": "6e999338-fa5b-4379-a07d-57942019b672",
   "metadata": {},
   "source": [
    "# 線形回帰の解釈\n",
    "## t検定"
   ]
  },
  {
   "cell_type": "code",
   "execution_count": 3,
   "id": "0064f175-cb22-445b-94fa-ebe9a8efd06e",
   "metadata": {},
   "outputs": [],
   "source": [
    "import pandas as pd\n",
    "df = pd.read_csv(\"sample_data2.csv\")\n",
    "y_col = \"rent\"\n",
    "# rentのカラムを抜いたその他のデータが特徴量 X\n",
    "X = df.drop(columns=[y_col])\n",
    "y = df[y_col]"
   ]
  },
  {
   "cell_type": "code",
   "execution_count": 5,
   "id": "d023fac1-9e0e-4c1a-a90f-b7b8d296a686",
   "metadata": {},
   "outputs": [
    {
     "name": "stdout",
     "output_type": "stream",
     "text": [
      "                            OLS Regression Results                            \n",
      "==============================================================================\n",
      "Dep. Variable:                   rent   R-squared:                       0.903\n",
      "Model:                            OLS   Adj. R-squared:                  0.876\n",
      "Method:                 Least Squares   F-statistic:                     32.66\n",
      "Date:                Thu, 25 Aug 2022   Prob (F-statistic):           0.000282\n",
      "Time:                        06:37:05   Log-Likelihood:                -22.687\n",
      "No. Observations:                  10   AIC:                             51.37\n",
      "Df Residuals:                       7   BIC:                             52.28\n",
      "Df Model:                           2                                         \n",
      "Covariance Type:            nonrobust                                         \n",
      "==============================================================================\n",
      "                 coef    std err          t      P>|t|      [0.025      0.975]\n",
      "------------------------------------------------------------------------------\n",
      "const          6.4150      2.043      3.140      0.016       1.584      11.246\n",
      "space          0.2677      0.035      7.622      0.000       0.185       0.351\n",
      "age            0.1206      0.131      0.924      0.386      -0.188       0.429\n",
      "==============================================================================\n",
      "Omnibus:                        0.981   Durbin-Watson:                   2.514\n",
      "Prob(Omnibus):                  0.612   Jarque-Bera (JB):                0.734\n",
      "Skew:                          -0.364   Prob(JB):                        0.693\n",
      "Kurtosis:                       1.890   Cond. No.                         130.\n",
      "==============================================================================\n",
      "\n",
      "Notes:\n",
      "[1] Standard Errors assume that the covariance matrix of the errors is correctly specified.\n"
     ]
    },
    {
     "name": "stderr",
     "output_type": "stream",
     "text": [
      "/opt/anaconda3/lib/python3.9/site-packages/scipy/stats/stats.py:1541: UserWarning: kurtosistest only valid for n>=20 ... continuing anyway, n=10\n",
      "  warnings.warn(\"kurtosistest only valid for n>=20 ... continuing \"\n"
     ]
    }
   ],
   "source": [
    "# 線形回帰\n",
    "import statsmodels.api as sma\n",
    "# バイアス項の追加\n",
    "X = sma.add_constant(X)\n",
    "est = sma.OLS(y, X) # estimateの略\n",
    "est_trained = est.fit()\n",
    "print(est_trained.summary())"
   ]
  },
  {
   "cell_type": "code",
   "execution_count": 8,
   "id": "e514caff-2c79-4d78-893a-131f31a05756",
   "metadata": {},
   "outputs": [
    {
     "name": "stdout",
     "output_type": "stream",
     "text": [
      "                            OLS Regression Results                            \n",
      "==============================================================================\n",
      "Dep. Variable:                   rent   R-squared:                       0.903\n",
      "Model:                            OLS   Adj. R-squared:                  0.876\n",
      "Method:                 Least Squares   F-statistic:                     32.66\n",
      "Date:                Thu, 25 Aug 2022   Prob (F-statistic):           0.000282\n",
      "Time:                        06:43:19   Log-Likelihood:                -22.687\n",
      "No. Observations:                  10   AIC:                             51.37\n",
      "Df Residuals:                       7   BIC:                             52.28\n",
      "Df Model:                           2                                         \n",
      "Covariance Type:            nonrobust                                         \n",
      "==============================================================================\n",
      "                 coef    std err          t      P>|t|      [0.025      0.975]\n",
      "------------------------------------------------------------------------------\n",
      "const         20.6474      0.884     23.355      0.000      18.557      22.738\n",
      "x1             6.9115      0.907      7.622      0.000       4.767       9.056\n",
      "x2             0.8377      0.907      0.924      0.386      -1.307       2.982\n",
      "==============================================================================\n",
      "Omnibus:                        0.981   Durbin-Watson:                   2.514\n",
      "Prob(Omnibus):                  0.612   Jarque-Bera (JB):                0.734\n",
      "Skew:                          -0.364   Prob(JB):                        0.693\n",
      "Kurtosis:                       1.890   Cond. No.                         1.25\n",
      "==============================================================================\n",
      "\n",
      "Notes:\n",
      "[1] Standard Errors assume that the covariance matrix of the errors is correctly specified.\n"
     ]
    },
    {
     "name": "stderr",
     "output_type": "stream",
     "text": [
      "/opt/anaconda3/lib/python3.9/site-packages/scipy/stats/stats.py:1541: UserWarning: kurtosistest only valid for n>=20 ... continuing anyway, n=10\n",
      "  warnings.warn(\"kurtosistest only valid for n>=20 ... continuing \"\n"
     ]
    }
   ],
   "source": [
    "import seaborn as sns\n",
    "from sklearn.preprocessing import StandardScaler\n",
    "\n",
    "X = df.drop(columns=[y_col])\n",
    "scaler = StandardScaler()\n",
    "X_scaled =  scaler.fit_transform(X)\n",
    "X_scaled = sma.add_constant(X_scaled)\n",
    "\n",
    "est = sma.OLS(y, X_scaled)\n",
    "est_trained = est.fit()\n",
    "print(est_trained.summary())"
   ]
  },
  {
   "cell_type": "code",
   "execution_count": null,
   "id": "77e82619-f3ee-473a-8059-194e216c2f89",
   "metadata": {},
   "outputs": [],
   "source": []
  }
 ],
 "metadata": {
  "kernelspec": {
   "display_name": "Python 3 (ipykernel)",
   "language": "python",
   "name": "python3"
  },
  "language_info": {
   "codemirror_mode": {
    "name": "ipython",
    "version": 3
   },
   "file_extension": ".py",
   "mimetype": "text/x-python",
   "name": "python",
   "nbconvert_exporter": "python",
   "pygments_lexer": "ipython3",
   "version": "3.9.12"
  }
 },
 "nbformat": 4,
 "nbformat_minor": 5
}

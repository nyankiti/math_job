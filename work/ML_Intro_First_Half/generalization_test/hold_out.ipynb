{
 "cells": [
  {
   "cell_type": "markdown",
   "id": "d52e701f-53ea-4795-9d6e-08b25c98d913",
   "metadata": {},
   "source": [
    "# 汎化性能の検証\n",
    "## hold-out"
   ]
  },
  {
   "cell_type": "code",
   "execution_count": 19,
   "id": "e552362b-dc5f-4c0e-8317-001a7dc56fca",
   "metadata": {},
   "outputs": [],
   "source": [
    "import numpy as np\n",
    "import seaborn as sns\n",
    "import pandas as pd\n",
    "from sklearn.model_selection import train_test_split\n",
    "# seabornが用意してくれている練習用データセットを利用\n",
    "# https://github.com/mwaskom/seaborn-data\n",
    "df = sns.load_dataset(\"tips\")\n",
    "\n",
    "# 目的変数をtipとする(他のデータからtipを予測するモデルを構築する)\n",
    "y_col = \"tip\"\n",
    "y = df[y_col]\n",
    "\n",
    "X = df.drop(columns=[y_col])\n",
    "\n",
    "# 標準化する連続値のカラム名を取り出す\n",
    "numeric_cols = X.select_dtypes(include=np.number).columns.to_list()\n",
    "# select_dtypesは以下の操作と同じ処理\n",
    "# numeric_cols = [\"total_bill\", \"size\"]\n",
    "\n",
    "\n",
    "# one hot encodingによってダミー変数を作成\n",
    "X = pd.get_dummies(X, drop_first=True)"
   ]
  },
  {
   "cell_type": "code",
   "execution_count": 20,
   "id": "ad5f387f-5d75-4e80-9385-584430be8528",
   "metadata": {},
   "outputs": [],
   "source": [
    "# 学習データとテストデータに分割する\n",
    "X_train, X_test, y_train, y_test = train_test_split(X, y, test_size=0.3, random_state=0 ) #random_stateをつけることでseed付けして、毎度分割の方法が変化しないようにする\n"
   ]
  },
  {
   "cell_type": "code",
   "execution_count": 21,
   "id": "cd3838c2-c37b-4c74-89d0-fa3af1b7b6a4",
   "metadata": {},
   "outputs": [
    {
     "name": "stdout",
     "output_type": "stream",
     "text": [
      "170\n",
      "74\n"
     ]
    }
   ],
   "source": [
    "print(len(X_train))\n",
    "print(len(X_test))"
   ]
  },
  {
   "cell_type": "code",
   "execution_count": 28,
   "id": "f57b2f3e-b3e0-477b-83f1-7a0edd4dc999",
   "metadata": {},
   "outputs": [
    {
     "data": {
      "text/html": [
       "<div>\n",
       "<style scoped>\n",
       "    .dataframe tbody tr th:only-of-type {\n",
       "        vertical-align: middle;\n",
       "    }\n",
       "\n",
       "    .dataframe tbody tr th {\n",
       "        vertical-align: top;\n",
       "    }\n",
       "\n",
       "    .dataframe thead th {\n",
       "        text-align: right;\n",
       "    }\n",
       "</style>\n",
       "<table border=\"1\" class=\"dataframe\">\n",
       "  <thead>\n",
       "    <tr style=\"text-align: right;\">\n",
       "      <th></th>\n",
       "      <th>total_bill</th>\n",
       "      <th>size</th>\n",
       "      <th>sex_Female</th>\n",
       "      <th>smoker_No</th>\n",
       "      <th>day_Fri</th>\n",
       "      <th>day_Sat</th>\n",
       "      <th>day_Sun</th>\n",
       "      <th>time_Dinner</th>\n",
       "    </tr>\n",
       "  </thead>\n",
       "  <tbody>\n",
       "    <tr>\n",
       "      <th>64</th>\n",
       "      <td>-0.267738</td>\n",
       "      <td>0.463915</td>\n",
       "      <td>0</td>\n",
       "      <td>1</td>\n",
       "      <td>0</td>\n",
       "      <td>1</td>\n",
       "      <td>0</td>\n",
       "      <td>1</td>\n",
       "    </tr>\n",
       "    <tr>\n",
       "      <th>63</th>\n",
       "      <td>-0.190963</td>\n",
       "      <td>1.544266</td>\n",
       "      <td>0</td>\n",
       "      <td>0</td>\n",
       "      <td>0</td>\n",
       "      <td>1</td>\n",
       "      <td>0</td>\n",
       "      <td>1</td>\n",
       "    </tr>\n",
       "    <tr>\n",
       "      <th>55</th>\n",
       "      <td>-0.059349</td>\n",
       "      <td>-0.616436</td>\n",
       "      <td>0</td>\n",
       "      <td>1</td>\n",
       "      <td>0</td>\n",
       "      <td>0</td>\n",
       "      <td>1</td>\n",
       "      <td>1</td>\n",
       "    </tr>\n",
       "    <tr>\n",
       "      <th>111</th>\n",
       "      <td>-1.401811</td>\n",
       "      <td>-1.696786</td>\n",
       "      <td>1</td>\n",
       "      <td>1</td>\n",
       "      <td>0</td>\n",
       "      <td>1</td>\n",
       "      <td>0</td>\n",
       "      <td>1</td>\n",
       "    </tr>\n",
       "    <tr>\n",
       "      <th>225</th>\n",
       "      <td>-0.412513</td>\n",
       "      <td>-0.616436</td>\n",
       "      <td>1</td>\n",
       "      <td>0</td>\n",
       "      <td>1</td>\n",
       "      <td>0</td>\n",
       "      <td>0</td>\n",
       "      <td>0</td>\n",
       "    </tr>\n",
       "    <tr>\n",
       "      <th>...</th>\n",
       "      <td>...</td>\n",
       "      <td>...</td>\n",
       "      <td>...</td>\n",
       "      <td>...</td>\n",
       "      <td>...</td>\n",
       "      <td>...</td>\n",
       "      <td>...</td>\n",
       "      <td>...</td>\n",
       "    </tr>\n",
       "    <tr>\n",
       "      <th>90</th>\n",
       "      <td>0.980401</td>\n",
       "      <td>-0.616436</td>\n",
       "      <td>0</td>\n",
       "      <td>0</td>\n",
       "      <td>1</td>\n",
       "      <td>0</td>\n",
       "      <td>0</td>\n",
       "      <td>1</td>\n",
       "    </tr>\n",
       "    <tr>\n",
       "      <th>101</th>\n",
       "      <td>-0.510127</td>\n",
       "      <td>-0.616436</td>\n",
       "      <td>1</td>\n",
       "      <td>0</td>\n",
       "      <td>1</td>\n",
       "      <td>0</td>\n",
       "      <td>0</td>\n",
       "      <td>1</td>\n",
       "    </tr>\n",
       "    <tr>\n",
       "      <th>75</th>\n",
       "      <td>-1.044260</td>\n",
       "      <td>-0.616436</td>\n",
       "      <td>0</td>\n",
       "      <td>1</td>\n",
       "      <td>0</td>\n",
       "      <td>1</td>\n",
       "      <td>0</td>\n",
       "      <td>1</td>\n",
       "    </tr>\n",
       "    <tr>\n",
       "      <th>4</th>\n",
       "      <td>0.500010</td>\n",
       "      <td>1.544266</td>\n",
       "      <td>1</td>\n",
       "      <td>1</td>\n",
       "      <td>0</td>\n",
       "      <td>0</td>\n",
       "      <td>1</td>\n",
       "      <td>1</td>\n",
       "    </tr>\n",
       "    <tr>\n",
       "      <th>109</th>\n",
       "      <td>-0.627482</td>\n",
       "      <td>-0.616436</td>\n",
       "      <td>1</td>\n",
       "      <td>0</td>\n",
       "      <td>0</td>\n",
       "      <td>1</td>\n",
       "      <td>0</td>\n",
       "      <td>1</td>\n",
       "    </tr>\n",
       "  </tbody>\n",
       "</table>\n",
       "<p>74 rows × 8 columns</p>\n",
       "</div>"
      ],
      "text/plain": [
       "     total_bill      size  sex_Female  smoker_No  day_Fri  day_Sat  day_Sun  \\\n",
       "64    -0.267738  0.463915           0          1        0        1        0   \n",
       "63    -0.190963  1.544266           0          0        0        1        0   \n",
       "55    -0.059349 -0.616436           0          1        0        0        1   \n",
       "111   -1.401811 -1.696786           1          1        0        1        0   \n",
       "225   -0.412513 -0.616436           1          0        1        0        0   \n",
       "..          ...       ...         ...        ...      ...      ...      ...   \n",
       "90     0.980401 -0.616436           0          0        1        0        0   \n",
       "101   -0.510127 -0.616436           1          0        1        0        0   \n",
       "75    -1.044260 -0.616436           0          1        0        1        0   \n",
       "4      0.500010  1.544266           1          1        0        0        1   \n",
       "109   -0.627482 -0.616436           1          0        0        1        0   \n",
       "\n",
       "     time_Dinner  \n",
       "64             1  \n",
       "63             1  \n",
       "55             1  \n",
       "111            1  \n",
       "225            0  \n",
       "..           ...  \n",
       "90             1  \n",
       "101            1  \n",
       "75             1  \n",
       "4              1  \n",
       "109            1  \n",
       "\n",
       "[74 rows x 8 columns]"
      ]
     },
     "execution_count": 28,
     "metadata": {},
     "output_type": "execute_result"
    }
   ],
   "source": [
    "# 標準化 ※標準化はデータ分割の後、学習データのみに行う\n",
    "from sklearn.preprocessing import StandardScaler\n",
    "scaler = StandardScaler()\n",
    "\n",
    "# 学習データのみでfit\n",
    "scaler.fit(X_train[numeric_cols])\n",
    "\n",
    "X_train_scaled = X_train.copy()\n",
    "X_train_scaled[numeric_cols] = scaler.transform(X_train[numeric_cols])\n",
    "# テストデータは、学習データでfitした値を用いて標準化する必要があることに注意\n",
    "X_test_scaled = X_test.copy()\n",
    "X_test_scaled[numeric_cols] = scaler.transform(X_test[numeric_cols])\n",
    "X_test_scaled"
   ]
  },
  {
   "cell_type": "code",
   "execution_count": 27,
   "id": "dbcf3126-9219-489b-9f6e-e991c09a0b55",
   "metadata": {},
   "outputs": [
    {
     "name": "stdout",
     "output_type": "stream",
     "text": [
      "total_bill    -0.088666\n",
      "size          -0.003263\n",
      "sex_Female     0.445946\n",
      "smoker_No      0.527027\n",
      "day_Fri        0.135135\n",
      "day_Sat        0.351351\n",
      "day_Sun        0.324324\n",
      "time_Dinner    0.756757\n",
      "dtype: float64\n",
      "total_bill     0.916074\n",
      "size           1.088917\n",
      "sex_Female     0.500463\n",
      "smoker_No      0.502677\n",
      "day_Fri        0.344201\n",
      "day_Sat        0.480651\n",
      "day_Sun        0.471317\n",
      "time_Dinner    0.431969\n",
      "dtype: float64\n"
     ]
    }
   ],
   "source": [
    "# 学習データを用いてfitしているので、テストデータの標準化後の値は平均値 0, 標準偏差 1 となるわけではない\n",
    "print(X_test_scaled.mean())\n",
    "print(X_test_scaled.std())"
   ]
  },
  {
   "cell_type": "code",
   "execution_count": 29,
   "id": "751e142c-d521-4d0d-b5de-38a3c32ff458",
   "metadata": {},
   "outputs": [],
   "source": [
    "# 線形回帰モデルの学習\n",
    "from sklearn.linear_model import LinearRegression\n",
    "model = LinearRegression()\n",
    "model.fit(X_train_scaled, y_train)\n",
    "y_pred = model.predict(X_test_scaled)"
   ]
  },
  {
   "cell_type": "markdown",
   "id": "49b25f3e-d829-43cd-8ae9-6920fcb5715b",
   "metadata": {},
   "source": [
    "y_pred と y_test が一致すれば汎化性能が高いといえる\\\n",
    "モデルによって予想したデータ(y_pred)と、実際のデータ(y_test)の残差の二乗平均を平均二乗誤差として算出する。この値が小さいほど性能が高いモデルと言える"
   ]
  },
  {
   "cell_type": "code",
   "execution_count": 31,
   "id": "238101d7-6f74-491f-82aa-b2627b4b5223",
   "metadata": {},
   "outputs": [
    {
     "data": {
      "text/plain": [
       "0.955080898861715"
      ]
     },
     "execution_count": 31,
     "metadata": {},
     "output_type": "execute_result"
    }
   ],
   "source": [
    "from sklearn.metrics import mean_squared_error\n",
    "mean_squared_error(y_test, y_pred) # np.mean(np.square(y_test - y_pred))"
   ]
  },
  {
   "cell_type": "code",
   "execution_count": null,
   "id": "4d4604bf-0c27-41b5-99e9-195982d25b85",
   "metadata": {},
   "outputs": [],
   "source": []
  }
 ],
 "metadata": {
  "kernelspec": {
   "display_name": "Python 3 (ipykernel)",
   "language": "python",
   "name": "python3"
  },
  "language_info": {
   "codemirror_mode": {
    "name": "ipython",
    "version": 3
   },
   "file_extension": ".py",
   "mimetype": "text/x-python",
   "name": "python",
   "nbconvert_exporter": "python",
   "pygments_lexer": "ipython3",
   "version": "3.9.12"
  }
 },
 "nbformat": 4,
 "nbformat_minor": 5
}

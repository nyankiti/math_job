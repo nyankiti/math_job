{
 "cells": [
  {
   "cell_type": "markdown",
   "id": "757b8f6a-79ec-4a58-96b7-4cafe291ce54",
   "metadata": {},
   "source": [
    "# 汎化性能の検証\n",
    "## k-hold CV"
   ]
  },
  {
   "cell_type": "code",
   "execution_count": 2,
   "id": "5e2f453d-7d9e-4f81-b27f-0e62ff61b534",
   "metadata": {},
   "outputs": [],
   "source": [
    "import numpy as np\n",
    "import seaborn as sns\n",
    "import pandas as pd\n",
    "from sklearn.model_selection import KFold\n",
    "from sklearn.linear_model import LinearRegression\n",
    "from sklearn.metrics import mean_squared_error\n",
    "\n",
    "# seabornが用意してくれている練習用データセットを利用\n",
    "# https://github.com/mwaskom/seaborn-data\n",
    "df = sns.load_dataset(\"tips\")\n",
    "\n",
    "# 目的変数をtipとする(他のデータからtipを予測するモデルを構築する)\n",
    "y_col = \"tip\"\n",
    "y = df[y_col]\n",
    "\n",
    "# total_billからtipを予測する\n",
    "X = df[\"total_bill\"].values.reshape(-1,1) #reshapeで二次元配列に変換"
   ]
  },
  {
   "cell_type": "code",
   "execution_count": 5,
   "id": "3bed0851-7c51-442f-b398-be8ef264b336",
   "metadata": {},
   "outputs": [],
   "source": [
    "# データを5つに分割して検証するサイクル(交差検証)を回す\n",
    "k = 5\n",
    "cv = KFold(n_splits=k, shuffle=True, random_state=0)"
   ]
  },
  {
   "cell_type": "code",
   "execution_count": 6,
   "id": "3072323a-5da2-42be-ab90-7faf7fcbb085",
   "metadata": {},
   "outputs": [],
   "source": [
    "model = LinearRegression()\n",
    "# それぞれのサイクルの予測の精度結果を保持しておく\n",
    "mse_list = []\n",
    "for train_index, test_index in cv.split(X):\n",
    "    # loo.split()によって生成されたtrainとtestのindexを元にそのサイクルのデータを作る\n",
    "    X_train, X_test = X[train_index], X[test_index]\n",
    "    y_train, y_test = y[train_index], y[test_index]\n",
    "    \n",
    "    # 特徴量が一つしかないので、標準化はしない\n",
    "    \n",
    "    # モデル学習\n",
    "    model.fit(X_train, y_train)\n",
    "    # テストデータの予測\n",
    "    y_pred = model.predict(X_test)\n",
    "    # MSE\n",
    "    mse = mean_squared_error(y_test, y_pred)\n",
    "    mse_list.append(mse)"
   ]
  },
  {
   "cell_type": "code",
   "execution_count": 9,
   "id": "4176bf3e-eea8-4bd3-9ca5-a1e4b5a8e79d",
   "metadata": {},
   "outputs": [
    {
     "name": "stdout",
     "output_type": "stream",
     "text": [
      "[0.8213090642766285, 1.0745842125927976, 1.0880123892600388, 1.3323867714930204, 1.084763004349474]\n",
      "MSE(5-FoldCV):1.080211088394392\n",
      "std:0.1617010050703952\n"
     ]
    }
   ],
   "source": [
    "print(mse_list) # k=5であるので5つのMSEが得られる\n",
    "print(f\"MSE({k}-FoldCV):{np.mean(mse_list)}\")\n",
    "print(f\"std:{np.std(mse_list)}\")"
   ]
  },
  {
   "cell_type": "markdown",
   "id": "d03c527e-e7ea-483f-98d3-bc5eeb84a5b6",
   "metadata": {},
   "source": [
    "上のfor分の処理は、以下のようにcross_val_scoreを用いることで自分で実装しなくても行える"
   ]
  },
  {
   "cell_type": "code",
   "execution_count": 10,
   "id": "5c40c342-e72e-4544-8906-4c75e521436c",
   "metadata": {},
   "outputs": [
    {
     "name": "stdout",
     "output_type": "stream",
     "text": [
      "MSE(5-FoldCV):1.080211088394392\n",
      "std:0.1617010050703952\n"
     ]
    }
   ],
   "source": [
    "from sklearn.model_selection import cross_val_score\n",
    "k = 5\n",
    "cv = KFold(n_splits=k, shuffle=True, random_state=0)\n",
    "scores = cross_val_score(model, X, y, cv=cv, scoring=\"neg_mean_squared_error\")\n",
    "\n",
    "print(f\"MSE({k}-FoldCV):{-np.mean(scores)}\")\n",
    "print(f\"std:{np.std(scores)}\")"
   ]
  },
  {
   "cell_type": "markdown",
   "id": "5bb20784-7180-4173-98c6-19ca29731a64",
   "metadata": {},
   "source": [
    "### repeated_k_fold_CV\n",
    "k-fold CVを複数回分割し、分割による偏りをなくす"
   ]
  },
  {
   "cell_type": "code",
   "execution_count": 13,
   "id": "f5723da9-9d5a-42e2-aaf9-3070f1ec990b",
   "metadata": {},
   "outputs": [
    {
     "name": "stdout",
     "output_type": "stream",
     "text": [
      "[0.8213090642766285, 1.0745842125927976, 1.0880123892600388, 1.3323867714930204, 1.084763004349474, 1.1587839131131425, 1.6042084002514578, 1.0307086207441927, 0.7120290668798744, 0.8472985410140895, 0.8856103319481907, 1.5248521639391936, 0.6332659028150582, 1.2003542002626073, 1.121414266809207]\n",
      "MSE(3 repeated 5-FoldCV):1.0746387233165984\n",
      "std:0.26517178540898434\n"
     ]
    }
   ],
   "source": [
    "from sklearn.model_selection import RepeatedKFold\n",
    "\n",
    "k = 5\n",
    "n_repeats = 3\n",
    "cv = RepeatedKFold(n_splits=k, n_repeats=n_repeats, random_state=0)\n",
    "\n",
    "model = LinearRegression()\n",
    "# それぞれのサイクルの予測の精度結果を保持しておく\n",
    "mse_list = []\n",
    "for train_index, test_index in cv.split(X):\n",
    "    # loo.split()によって生成されたtrainとtestのindexを元にそのサイクルのデータを作る\n",
    "    X_train, X_test = X[train_index], X[test_index]\n",
    "    y_train, y_test = y[train_index], y[test_index]\n",
    "    \n",
    "    # 特徴量が一つしかないので、標準化はしない\n",
    "    \n",
    "    # モデル学習\n",
    "    model.fit(X_train, y_train)\n",
    "    # テストデータの予測\n",
    "    y_pred = model.predict(X_test)\n",
    "    # MSE\n",
    "    mse = mean_squared_error(y_test, y_pred)\n",
    "    mse_list.append(mse)\n",
    "    \n",
    "print(mse_list) # 5*3 = 15個のMSEが得られる\n",
    "print(f\"MSE({n_repeats} repeated {k}-FoldCV):{np.mean(mse_list)}\")\n",
    "print(f\"std:{np.std(mse_list)}\")"
   ]
  },
  {
   "cell_type": "code",
   "execution_count": 15,
   "id": "fe4e197c-5f23-4b45-964e-9a2a2e53abfa",
   "metadata": {},
   "outputs": [
    {
     "name": "stdout",
     "output_type": "stream",
     "text": [
      "MSE(3 repeated 5-FoldCV):1.0746387233165984\n",
      "std:0.26517178540898434\n"
     ]
    }
   ],
   "source": [
    "# cross_val_scoreを用いて、上で実装した処理を1行で実行する\n",
    "scores = cross_val_score(model, X, y, cv=cv, scoring=\"neg_mean_squared_error\")\n",
    "\n",
    "print(f\"MSE({n_repeats} repeated {k}-FoldCV):{-np.mean(scores)}\")\n",
    "print(f\"std:{np.std(scores)}\")"
   ]
  },
  {
   "cell_type": "markdown",
   "id": "761e07f4-34da-429e-8fee-eac76161fc2b",
   "metadata": {},
   "source": [
    "## 標準化をk-Fold CVに組み込む\n",
    "**Pipeline**オブジェクトを使うことで、 \n",
    "- 標準化\n",
    "- モデル学習\n",
    "- 評価 \n",
    "\n",
    "などの複数の処理をまとめることが可能"
   ]
  },
  {
   "cell_type": "code",
   "execution_count": 16,
   "id": "58fd6d54-897b-413a-8a7e-e0b1090affcd",
   "metadata": {},
   "outputs": [
    {
     "data": {
      "text/html": [
       "<style>#sk-container-id-1 {color: black;background-color: white;}#sk-container-id-1 pre{padding: 0;}#sk-container-id-1 div.sk-toggleable {background-color: white;}#sk-container-id-1 label.sk-toggleable__label {cursor: pointer;display: block;width: 100%;margin-bottom: 0;padding: 0.3em;box-sizing: border-box;text-align: center;}#sk-container-id-1 label.sk-toggleable__label-arrow:before {content: \"▸\";float: left;margin-right: 0.25em;color: #696969;}#sk-container-id-1 label.sk-toggleable__label-arrow:hover:before {color: black;}#sk-container-id-1 div.sk-estimator:hover label.sk-toggleable__label-arrow:before {color: black;}#sk-container-id-1 div.sk-toggleable__content {max-height: 0;max-width: 0;overflow: hidden;text-align: left;background-color: #f0f8ff;}#sk-container-id-1 div.sk-toggleable__content pre {margin: 0.2em;color: black;border-radius: 0.25em;background-color: #f0f8ff;}#sk-container-id-1 input.sk-toggleable__control:checked~div.sk-toggleable__content {max-height: 200px;max-width: 100%;overflow: auto;}#sk-container-id-1 input.sk-toggleable__control:checked~label.sk-toggleable__label-arrow:before {content: \"▾\";}#sk-container-id-1 div.sk-estimator input.sk-toggleable__control:checked~label.sk-toggleable__label {background-color: #d4ebff;}#sk-container-id-1 div.sk-label input.sk-toggleable__control:checked~label.sk-toggleable__label {background-color: #d4ebff;}#sk-container-id-1 input.sk-hidden--visually {border: 0;clip: rect(1px 1px 1px 1px);clip: rect(1px, 1px, 1px, 1px);height: 1px;margin: -1px;overflow: hidden;padding: 0;position: absolute;width: 1px;}#sk-container-id-1 div.sk-estimator {font-family: monospace;background-color: #f0f8ff;border: 1px dotted black;border-radius: 0.25em;box-sizing: border-box;margin-bottom: 0.5em;}#sk-container-id-1 div.sk-estimator:hover {background-color: #d4ebff;}#sk-container-id-1 div.sk-parallel-item::after {content: \"\";width: 100%;border-bottom: 1px solid gray;flex-grow: 1;}#sk-container-id-1 div.sk-label:hover label.sk-toggleable__label {background-color: #d4ebff;}#sk-container-id-1 div.sk-serial::before {content: \"\";position: absolute;border-left: 1px solid gray;box-sizing: border-box;top: 0;bottom: 0;left: 50%;z-index: 0;}#sk-container-id-1 div.sk-serial {display: flex;flex-direction: column;align-items: center;background-color: white;padding-right: 0.2em;padding-left: 0.2em;position: relative;}#sk-container-id-1 div.sk-item {position: relative;z-index: 1;}#sk-container-id-1 div.sk-parallel {display: flex;align-items: stretch;justify-content: center;background-color: white;position: relative;}#sk-container-id-1 div.sk-item::before, #sk-container-id-1 div.sk-parallel-item::before {content: \"\";position: absolute;border-left: 1px solid gray;box-sizing: border-box;top: 0;bottom: 0;left: 50%;z-index: -1;}#sk-container-id-1 div.sk-parallel-item {display: flex;flex-direction: column;z-index: 1;position: relative;background-color: white;}#sk-container-id-1 div.sk-parallel-item:first-child::after {align-self: flex-end;width: 50%;}#sk-container-id-1 div.sk-parallel-item:last-child::after {align-self: flex-start;width: 50%;}#sk-container-id-1 div.sk-parallel-item:only-child::after {width: 0;}#sk-container-id-1 div.sk-dashed-wrapped {border: 1px dashed gray;margin: 0 0.4em 0.5em 0.4em;box-sizing: border-box;padding-bottom: 0.4em;background-color: white;}#sk-container-id-1 div.sk-label label {font-family: monospace;font-weight: bold;display: inline-block;line-height: 1.2em;}#sk-container-id-1 div.sk-label-container {text-align: center;}#sk-container-id-1 div.sk-container {/* jupyter's `normalize.less` sets `[hidden] { display: none; }` but bootstrap.min.css set `[hidden] { display: none !important; }` so we also need the `!important` here to be able to override the default hidden behavior on the sphinx rendered scikit-learn.org. See: https://github.com/scikit-learn/scikit-learn/issues/21755 */display: inline-block !important;position: relative;}#sk-container-id-1 div.sk-text-repr-fallback {display: none;}</style><div id=\"sk-container-id-1\" class=\"sk-top-container\"><div class=\"sk-text-repr-fallback\"><pre>Pipeline(steps=[(&#x27;scaler&#x27;, StandardScaler()), (&#x27;model&#x27;, LinearRegression())])</pre><b>In a Jupyter environment, please rerun this cell to show the HTML representation or trust the notebook. <br />On GitHub, the HTML representation is unable to render, please try loading this page with nbviewer.org.</b></div><div class=\"sk-container\" hidden><div class=\"sk-item sk-dashed-wrapped\"><div class=\"sk-label-container\"><div class=\"sk-label sk-toggleable\"><input class=\"sk-toggleable__control sk-hidden--visually\" id=\"sk-estimator-id-1\" type=\"checkbox\" ><label for=\"sk-estimator-id-1\" class=\"sk-toggleable__label sk-toggleable__label-arrow\">Pipeline</label><div class=\"sk-toggleable__content\"><pre>Pipeline(steps=[(&#x27;scaler&#x27;, StandardScaler()), (&#x27;model&#x27;, LinearRegression())])</pre></div></div></div><div class=\"sk-serial\"><div class=\"sk-item\"><div class=\"sk-estimator sk-toggleable\"><input class=\"sk-toggleable__control sk-hidden--visually\" id=\"sk-estimator-id-2\" type=\"checkbox\" ><label for=\"sk-estimator-id-2\" class=\"sk-toggleable__label sk-toggleable__label-arrow\">StandardScaler</label><div class=\"sk-toggleable__content\"><pre>StandardScaler()</pre></div></div></div><div class=\"sk-item\"><div class=\"sk-estimator sk-toggleable\"><input class=\"sk-toggleable__control sk-hidden--visually\" id=\"sk-estimator-id-3\" type=\"checkbox\" ><label for=\"sk-estimator-id-3\" class=\"sk-toggleable__label sk-toggleable__label-arrow\">LinearRegression</label><div class=\"sk-toggleable__content\"><pre>LinearRegression()</pre></div></div></div></div></div></div></div>"
      ],
      "text/plain": [
       "Pipeline(steps=[('scaler', StandardScaler()), ('model', LinearRegression())])"
      ]
     },
     "execution_count": 16,
     "metadata": {},
     "output_type": "execute_result"
    }
   ],
   "source": [
    "from sklearn.pipeline import Pipeline\n",
    "from sklearn.preprocessing import StandardScaler\n",
    "\n",
    "pipeline = Pipeline(steps=[(\"scaler\", StandardScaler()),(\"model\", LinearRegression())])\n",
    "pipeline"
   ]
  },
  {
   "cell_type": "code",
   "execution_count": 23,
   "id": "6adf84be-2109-4fa8-a4c2-2d5794080c7e",
   "metadata": {},
   "outputs": [
    {
     "name": "stdout",
     "output_type": "stream",
     "text": [
      "MSE(5-FoldCV):1.0802110883943916\n",
      "std:0.1617010050703952\n"
     ]
    }
   ],
   "source": [
    "k = 5\n",
    "cv = KFold(n_splits=k, shuffle=True, random_state=0)\n",
    "scores = cross_val_score(pipeline, X, y, cv=cv, scoring=\"neg_mean_squared_error\")\n",
    "scores\n",
    "\n",
    "print(f\"MSE({k}-FoldCV):{-np.mean(scores)}\")\n",
    "print(f\"std:{np.std(scores)}\")"
   ]
  },
  {
   "cell_type": "code",
   "execution_count": null,
   "id": "e82c8aba-93ff-4870-bb69-5c37da216f77",
   "metadata": {},
   "outputs": [],
   "source": []
  },
  {
   "cell_type": "code",
   "execution_count": null,
   "id": "c1b76ba7-f2db-4b69-8429-a472aa1fc295",
   "metadata": {},
   "outputs": [],
   "source": []
  },
  {
   "cell_type": "markdown",
   "id": "95744150-345d-4dd8-94c2-0a7a7c01934a",
   "metadata": {},
   "source": [
    "参考として、シンプルなhold out法による、pipelineありorなしの処理の比較"
   ]
  },
  {
   "cell_type": "code",
   "execution_count": 20,
   "id": "8b6fadcb-c694-498e-8e34-929e3d30868e",
   "metadata": {},
   "outputs": [
    {
     "data": {
      "text/plain": [
       "array([2.71486884, 2.78639251, 2.90900452, 1.65836207, 2.57999564,\n",
       "       1.50509707, 2.74858715, 3.30136293, 2.77208778, 4.45800284,\n",
       "       3.50060744, 3.49345507, 2.35520697, 2.24587793, 2.28879213,\n",
       "       4.02375199, 1.77075641, 2.3480546 , 2.83645908, 3.2778623 ,\n",
       "       3.98901192, 3.05511716, 2.55240794, 2.45431834, 2.29798803,\n",
       "       2.59327861, 2.16004953, 3.96244599, 3.50162921, 2.5289073 ,\n",
       "       2.42264357, 2.19274606, 2.49314547, 1.99963215, 2.78639251,\n",
       "       2.28572683, 2.64743224, 1.97306622, 5.85577969, 2.55036441,\n",
       "       1.79425705, 2.18763723, 2.52073317, 3.96755482, 2.22135553,\n",
       "       2.65151931, 2.78128368, 3.12255376, 2.66173698, 3.66409011,\n",
       "       4.2567148 , 2.74552185, 3.01118119, 5.83943142, 1.89847725,\n",
       "       2.14676656, 3.97572896, 3.03161652, 2.37462053, 2.21113786,\n",
       "       3.70496078, 2.53299437, 3.07963956, 3.47199797, 3.99718606,\n",
       "       2.5043849 , 2.60043097, 4.2720413 , 1.97306622, 3.87763935,\n",
       "       2.4890584 , 1.99145802, 3.43010554, 2.37972937])"
      ]
     },
     "execution_count": 20,
     "metadata": {},
     "output_type": "execute_result"
    }
   ],
   "source": [
    "# pipelineなしの標準化 + 線形回帰\n",
    "\n",
    "from sklearn.model_selection import train_test_split\n",
    "\n",
    "X_train, X_test, y_train, y_test = train_test_split(X, y, test_size=0.3, random_state=0)\n",
    "model = LinearRegression()\n",
    "scaler = StandardScaler()\n",
    "X_train_scaled = scaler.fit_transform(X_train)\n",
    "X_test_scaled = scaler.transform(X_test)\n",
    "model.fit(X_train_scaled, y_train)\n",
    "y_pred = model.predict(X_test_scaled)"
   ]
  },
  {
   "cell_type": "code",
   "execution_count": 24,
   "id": "4ab6709b-5eb5-47e5-8ac9-c75345c13329",
   "metadata": {},
   "outputs": [
    {
     "data": {
      "text/plain": [
       "array([2.71486884, 2.78639251, 2.90900452, 1.65836207, 2.57999564,\n",
       "       1.50509707, 2.74858715, 3.30136293, 2.77208778, 4.45800284,\n",
       "       3.50060744, 3.49345507, 2.35520697, 2.24587793, 2.28879213,\n",
       "       4.02375199, 1.77075641, 2.3480546 , 2.83645908, 3.2778623 ,\n",
       "       3.98901192, 3.05511716, 2.55240794, 2.45431834, 2.29798803,\n",
       "       2.59327861, 2.16004953, 3.96244599, 3.50162921, 2.5289073 ,\n",
       "       2.42264357, 2.19274606, 2.49314547, 1.99963215, 2.78639251,\n",
       "       2.28572683, 2.64743224, 1.97306622, 5.85577969, 2.55036441,\n",
       "       1.79425705, 2.18763723, 2.52073317, 3.96755482, 2.22135553,\n",
       "       2.65151931, 2.78128368, 3.12255376, 2.66173698, 3.66409011,\n",
       "       4.2567148 , 2.74552185, 3.01118119, 5.83943142, 1.89847725,\n",
       "       2.14676656, 3.97572896, 3.03161652, 2.37462053, 2.21113786,\n",
       "       3.70496078, 2.53299437, 3.07963956, 3.47199797, 3.99718606,\n",
       "       2.5043849 , 2.60043097, 4.2720413 , 1.97306622, 3.87763935,\n",
       "       2.4890584 , 1.99145802, 3.43010554, 2.37972937])"
      ]
     },
     "execution_count": 24,
     "metadata": {},
     "output_type": "execute_result"
    }
   ],
   "source": [
    "# pipelineあり\n",
    "X_train, X_test, y_train, y_test = train_test_split(X, y, test_size=0.3, random_state=0)\n",
    "pipeline = Pipeline(steps=[(\"scaler\", StandardScaler()),(\"model\", LinearRegression())])\n",
    "# このfitメソッドは、scalerのfitと、modelのfitが順番に実行されているイメージ\n",
    "pipeline.fit(X_train, y_train)\n",
    "y_pred_p = pipeline.predict(X_test)\n",
    "y_pred_p"
   ]
  },
  {
   "cell_type": "code",
   "execution_count": null,
   "id": "55c9eecd-dd48-4a96-be78-d2896180f7f7",
   "metadata": {},
   "outputs": [],
   "source": []
  }
 ],
 "metadata": {
  "kernelspec": {
   "display_name": "Python 3 (ipykernel)",
   "language": "python",
   "name": "python3"
  },
  "language_info": {
   "codemirror_mode": {
    "name": "ipython",
    "version": 3
   },
   "file_extension": ".py",
   "mimetype": "text/x-python",
   "name": "python",
   "nbconvert_exporter": "python",
   "pygments_lexer": "ipython3",
   "version": "3.9.12"
  }
 },
 "nbformat": 4,
 "nbformat_minor": 5
}

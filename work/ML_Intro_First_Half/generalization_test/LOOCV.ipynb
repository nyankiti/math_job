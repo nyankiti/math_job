{
 "cells": [
  {
   "cell_type": "markdown",
   "id": "757b8f6a-79ec-4a58-96b7-4cafe291ce54",
   "metadata": {},
   "source": [
    "# 汎化性能の検証\n",
    "## LOOCV"
   ]
  },
  {
   "cell_type": "code",
   "execution_count": 7,
   "id": "5e2f453d-7d9e-4f81-b27f-0e62ff61b534",
   "metadata": {},
   "outputs": [],
   "source": [
    "import numpy as np\n",
    "import seaborn as sns\n",
    "import pandas as pd\n",
    "from sklearn.model_selection import LeaveOneOut\n",
    "from sklearn.linear_model import LinearRegression\n",
    "from sklearn.metrics import mean_squared_error\n",
    "\n",
    "# seabornが用意してくれている練習用データセットを利用\n",
    "# https://github.com/mwaskom/seaborn-data\n",
    "df = sns.load_dataset(\"tips\")\n",
    "\n",
    "# 目的変数をtipとする(他のデータからtipを予測するモデルを構築する)\n",
    "y_col = \"tip\"\n",
    "y = df[y_col]\n",
    "\n",
    "# total_billからtipを予測する\n",
    "X = df[\"total_bill\"].values.reshape(-1,1) #reshapeで二次元配列に変換"
   ]
  },
  {
   "cell_type": "code",
   "execution_count": 6,
   "id": "3bed0851-7c51-442f-b398-be8ef264b336",
   "metadata": {},
   "outputs": [],
   "source": [
    "# LOO(一つをテストデータ、その他全てを学習データに分ける)サイクルを作る\n",
    "loo = LeaveOneOut()"
   ]
  },
  {
   "cell_type": "code",
   "execution_count": 10,
   "id": "3072323a-5da2-42be-ab90-7faf7fcbb085",
   "metadata": {},
   "outputs": [],
   "source": [
    "model = LinearRegression()\n",
    "# それぞれのサイクルの予測の精度結果を保持しておく\n",
    "mse_list = []\n",
    "for train_index, test_index in loo.split(X):\n",
    "    # loo.split()によって生成されたtrainとtestのindexを元にそのサイクルのデータを作る\n",
    "    X_train, X_test = X[train_index], X[test_index]\n",
    "    y_train, y_test = y[train_index], y[test_index]\n",
    "    \n",
    "    # モデル学習\n",
    "    model.fit(X_train, y_train)\n",
    "    # テストデータの予測\n",
    "    y_pred = model.predict(X_test)\n",
    "    # MSE\n",
    "    mse = mean_squared_error(y_test, y_pred)\n",
    "    mse_list.append(mse)"
   ]
  },
  {
   "cell_type": "code",
   "execution_count": 13,
   "id": "4176bf3e-eea8-4bd3-9ca5-a1e4b5a8e79d",
   "metadata": {},
   "outputs": [
    {
     "name": "stdout",
     "output_type": "stream",
     "text": [
      "MSE(LOOCV):1.0675673489857438\n",
      "std:2.0997944551776313\n"
     ]
    }
   ],
   "source": [
    "print(f\"MSE(LOOCV):{np.mean(mse_list)}\")\n",
    "print(f\"std:{np.std(mse_list)}\")"
   ]
  },
  {
   "cell_type": "markdown",
   "id": "d03c527e-e7ea-483f-98d3-bc5eeb84a5b6",
   "metadata": {},
   "source": [
    "上のfor分の処理は、以下のようにcross_val_scoreを用いることで自分で実装しなくても行える"
   ]
  },
  {
   "cell_type": "code",
   "execution_count": 15,
   "id": "5c40c342-e72e-4544-8906-4c75e521436c",
   "metadata": {},
   "outputs": [
    {
     "name": "stdout",
     "output_type": "stream",
     "text": [
      "MSE(LOOCV):1.0675673489857438\n",
      "std:2.0997944551776313\n"
     ]
    }
   ],
   "source": [
    "from sklearn.model_selection import cross_val_score\n",
    "cv = LeaveOneOut()\n",
    "scores = cross_val_score(model, X, y, cv=cv, scoring=\"neg_mean_squared_error\")\n",
    "\n",
    "print(f\"MSE(LOOCV):{-np.mean(scores)}\")\n",
    "print(f\"std:{np.std(scores)}\")"
   ]
  },
  {
   "cell_type": "code",
   "execution_count": null,
   "id": "386044ff-dcf3-448c-824b-c99697f55084",
   "metadata": {},
   "outputs": [],
   "source": []
  }
 ],
 "metadata": {
  "kernelspec": {
   "display_name": "Python 3 (ipykernel)",
   "language": "python",
   "name": "python3"
  },
  "language_info": {
   "codemirror_mode": {
    "name": "ipython",
    "version": 3
   },
   "file_extension": ".py",
   "mimetype": "text/x-python",
   "name": "python",
   "nbconvert_exporter": "python",
   "pygments_lexer": "ipython3",
   "version": "3.9.12"
  }
 },
 "nbformat": 4,
 "nbformat_minor": 5
}

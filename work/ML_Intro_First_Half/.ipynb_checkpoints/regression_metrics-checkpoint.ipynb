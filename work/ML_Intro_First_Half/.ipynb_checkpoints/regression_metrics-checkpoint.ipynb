{
 "cells": [
  {
   "cell_type": "markdown",
   "id": "29ae9df7-58d3-4e76-81d0-d18ecfdc3f66",
   "metadata": {},
   "source": [
    "# 回帰の評価指標"
   ]
  },
  {
   "cell_type": "code",
   "execution_count": 1,
   "id": "7c0a485e-7e32-4ea0-9070-cfcc3fbcedc9",
   "metadata": {},
   "outputs": [],
   "source": [
    "import seaborn as sns\n",
    "from sklearn.model_selection import train_test_split\n",
    "\n",
    "# データの準備\n",
    "df = sns.load_dataset(\"tips\")\n",
    "X = df[\"total_bill\"].values.reshape(-1, 1)\n",
    "y = df[\"tip\"].values\n",
    "\n",
    "train_test_split()"
   ]
  },
  {
   "cell_type": "code",
   "execution_count": null,
   "id": "a8852c61-a5ab-46f9-a900-e298ca51646a",
   "metadata": {},
   "outputs": [],
   "source": []
  }
 ],
 "metadata": {
  "kernelspec": {
   "display_name": "Python 3 (ipykernel)",
   "language": "python",
   "name": "python3"
  },
  "language_info": {
   "codemirror_mode": {
    "name": "ipython",
    "version": 3
   },
   "file_extension": ".py",
   "mimetype": "text/x-python",
   "name": "python",
   "nbconvert_exporter": "python",
   "pygments_lexer": "ipython3",
   "version": "3.9.12"
  }
 },
 "nbformat": 4,
 "nbformat_minor": 5
}

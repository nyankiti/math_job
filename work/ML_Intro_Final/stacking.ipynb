{
 "cells": [
  {
   "cell_type": "code",
   "execution_count": 19,
   "id": "37d3765d-14dc-4238-9e05-b238def24af3",
   "metadata": {},
   "outputs": [],
   "source": [
    "import seaborn as sns\n",
    "import pandas as pd\n",
    "from sklearn.preprocessing import OrdinalEncoder\n",
    "from sklearn.model_selection import train_test_split\n",
    "df = sns.load_dataset(\"titanic\")\n",
    "# 欠損値を落とす\n",
    "df.dropna(inplace=True)\n",
    "# X, y を作成\n",
    "X = df.loc[:, (df.columns!=\"survived\") & (df.columns!=\"alive\")]\n",
    "y = df[\"survived\"]\n",
    "# カテゴリ変数をエンコーディングする(決定木をsklearnで扱うためにカテゴリ変数のエンコーディングが必要)\n",
    "oe = OrdinalEncoder()\n",
    "oe.set_output(transform=\"pandas\")\n",
    "X = oe.fit_transform(X)\n",
    "# 訓練データとテストデータに分ける\n",
    "X_train, X_test, y_train, y_test = train_test_split(X, y, test_size=0.3, random_state=0)"
   ]
  },
  {
   "cell_type": "markdown",
   "id": "842cb2e4-c962-4357-8c1a-915a46e74eeb",
   "metadata": {},
   "source": [
    "# Stacking"
   ]
  },
  {
   "cell_type": "code",
   "execution_count": 36,
   "id": "5682201d-9a59-4311-a992-30e5709227ee",
   "metadata": {},
   "outputs": [],
   "source": [
    "class StackingClassifierCV():\n",
    "    def __init__(self, estimators, final_estimator, cv):\n",
    "        self.estimators = estimators # (model_name, model_instance)のタプルが配列として格納されている\n",
    "        self.final_estimator = final_estimator\n",
    "        self.cv = cv\n",
    "        \n",
    "    def fit(self, X, y):\n",
    "        pred_features = {}\n",
    "        for model_name, model in self.estimators:\n",
    "            preds = []\n",
    "            new_y = []\n",
    "            for train_idx, val_idx in self.cv.split(X):\n",
    "                X_train, X_val = X.iloc[train_idx], X.iloc[val_idx]\n",
    "                y_train, y_val = y.iloc[train_idx], y.iloc[val_idx]\n",
    "                model.fit(X_train, y_train)\n",
    "                pred = model.predict_proba(X_val)[:, 1].tolist()\n",
    "                preds += pred\n",
    "                new_y += y_val.tolist()\n",
    "            # predict proba のため、それぞれの model は全てのデータで fit した状態にしておく\n",
    "            model.fit(X, y)\n",
    "            pred_features[model_name] = preds\n",
    "        \n",
    "        # 2層目のモデルの学習\n",
    "        new_X = pd.DataFrame(pred_features)\n",
    "        self.final_estimator.fit(new_X, new_y)\n",
    "        \n",
    "    def predict_proba(self, X):\n",
    "        # 1 周目のモデルで特徴量(予測値)生成\n",
    "        pred_features = {}\n",
    "        for model_name, model in self.estimators:\n",
    "            pred = model.predict_proba(X)[:, 1]\n",
    "            pred_features[model_name] = pred\n",
    "        \n",
    "        new_X = pd.DataFrame(pred_features)\n",
    "        final_pred = self.final_estimator.predict_proba(new_X)\n",
    "        return final_pred\n",
    "        \n",
    "            \n",
    "            "
   ]
  },
  {
   "cell_type": "code",
   "execution_count": 41,
   "id": "12027de4-75e5-46ae-ab01-d82a350d131d",
   "metadata": {},
   "outputs": [
    {
     "name": "stderr",
     "output_type": "stream",
     "text": [
      "/opt/anaconda3/lib/python3.9/site-packages/sklearn/linear_model/_logistic.py:458: ConvergenceWarning: lbfgs failed to converge (status=1):\n",
      "STOP: TOTAL NO. of ITERATIONS REACHED LIMIT.\n",
      "\n",
      "Increase the number of iterations (max_iter) or scale the data as shown in:\n",
      "    https://scikit-learn.org/stable/modules/preprocessing.html\n",
      "Please also refer to the documentation for alternative solver options:\n",
      "    https://scikit-learn.org/stable/modules/linear_model.html#logistic-regression\n",
      "  n_iter_i = _check_optimize_result(\n",
      "/opt/anaconda3/lib/python3.9/site-packages/sklearn/linear_model/_logistic.py:458: ConvergenceWarning: lbfgs failed to converge (status=1):\n",
      "STOP: TOTAL NO. of ITERATIONS REACHED LIMIT.\n",
      "\n",
      "Increase the number of iterations (max_iter) or scale the data as shown in:\n",
      "    https://scikit-learn.org/stable/modules/preprocessing.html\n",
      "Please also refer to the documentation for alternative solver options:\n",
      "    https://scikit-learn.org/stable/modules/linear_model.html#logistic-regression\n",
      "  n_iter_i = _check_optimize_result(\n",
      "/opt/anaconda3/lib/python3.9/site-packages/sklearn/linear_model/_logistic.py:458: ConvergenceWarning: lbfgs failed to converge (status=1):\n",
      "STOP: TOTAL NO. of ITERATIONS REACHED LIMIT.\n",
      "\n",
      "Increase the number of iterations (max_iter) or scale the data as shown in:\n",
      "    https://scikit-learn.org/stable/modules/preprocessing.html\n",
      "Please also refer to the documentation for alternative solver options:\n",
      "    https://scikit-learn.org/stable/modules/linear_model.html#logistic-regression\n",
      "  n_iter_i = _check_optimize_result(\n",
      "/opt/anaconda3/lib/python3.9/site-packages/sklearn/linear_model/_logistic.py:458: ConvergenceWarning: lbfgs failed to converge (status=1):\n",
      "STOP: TOTAL NO. of ITERATIONS REACHED LIMIT.\n",
      "\n",
      "Increase the number of iterations (max_iter) or scale the data as shown in:\n",
      "    https://scikit-learn.org/stable/modules/preprocessing.html\n",
      "Please also refer to the documentation for alternative solver options:\n",
      "    https://scikit-learn.org/stable/modules/linear_model.html#logistic-regression\n",
      "  n_iter_i = _check_optimize_result(\n",
      "/opt/anaconda3/lib/python3.9/site-packages/sklearn/linear_model/_logistic.py:458: ConvergenceWarning: lbfgs failed to converge (status=1):\n",
      "STOP: TOTAL NO. of ITERATIONS REACHED LIMIT.\n",
      "\n",
      "Increase the number of iterations (max_iter) or scale the data as shown in:\n",
      "    https://scikit-learn.org/stable/modules/preprocessing.html\n",
      "Please also refer to the documentation for alternative solver options:\n",
      "    https://scikit-learn.org/stable/modules/linear_model.html#logistic-regression\n",
      "  n_iter_i = _check_optimize_result(\n",
      "/opt/anaconda3/lib/python3.9/site-packages/sklearn/linear_model/_logistic.py:458: ConvergenceWarning: lbfgs failed to converge (status=1):\n",
      "STOP: TOTAL NO. of ITERATIONS REACHED LIMIT.\n",
      "\n",
      "Increase the number of iterations (max_iter) or scale the data as shown in:\n",
      "    https://scikit-learn.org/stable/modules/preprocessing.html\n",
      "Please also refer to the documentation for alternative solver options:\n",
      "    https://scikit-learn.org/stable/modules/linear_model.html#logistic-regression\n",
      "  n_iter_i = _check_optimize_result(\n"
     ]
    }
   ],
   "source": [
    "from sklearn.model_selection import KFold\n",
    "from sklearn.ensemble import RandomForestClassifier\n",
    "from sklearn.neighbors import KNeighborsClassifier\n",
    "from sklearn.linear_model import LogisticRegression\n",
    "\n",
    "cv = KFold(n_splits=5, shuffle=True, random_state=0)\n",
    "final_estimator = LogisticRegression()\n",
    "estimators=[(\"rf\", RandomForestClassifier()), (\"knn\", KNeighborsClassifier()), (\"logistic\", LogisticRegression())]\n",
    "\n",
    "stacking_cv = StackingClassifierCV(estimators=estimators, final_estimator=final_estimator, cv=cv)\n",
    "stacking_cv.fit(X_train, y_train)\n",
    "y_pred_stacking_cv = stacking_cv.predict_proba(X_test)"
   ]
  },
  {
   "cell_type": "code",
   "execution_count": 42,
   "id": "d71e2c65-c7a4-4f5b-b29a-5f9ed0807eeb",
   "metadata": {},
   "outputs": [
    {
     "name": "stdout",
     "output_type": "stream",
     "text": [
      "stacking CV AUC: 0.858974358974359\n"
     ]
    }
   ],
   "source": [
    "from sklearn.metrics import roc_auc_score\n",
    "print(f\"stacking CV AUC: {roc_auc_score(y_test, y_pred_stacking_cv[:, 1])}\")"
   ]
  },
  {
   "cell_type": "code",
   "execution_count": null,
   "id": "c6218295-2f2f-4a79-b4e0-61366bc882b0",
   "metadata": {},
   "outputs": [],
   "source": []
  }
 ],
 "metadata": {
  "kernelspec": {
   "display_name": "Python 3 (ipykernel)",
   "language": "python",
   "name": "python3"
  },
  "language_info": {
   "codemirror_mode": {
    "name": "ipython",
    "version": 3
   },
   "file_extension": ".py",
   "mimetype": "text/x-python",
   "name": "python",
   "nbconvert_exporter": "python",
   "pygments_lexer": "ipython3",
   "version": "3.9.13"
  }
 },
 "nbformat": 4,
 "nbformat_minor": 5
}

{
 "cells": [
  {
   "cell_type": "markdown",
   "id": "ed7f6562-b766-48b7-8afc-2afb2b12c4ef",
   "metadata": {},
   "source": [
    "# 特徴量の選択\n",
    "\n",
    "## Greedy feature selection\n",
    "貪欲法的に特徴量の追加と評価を繰り返す\n",
    "\n",
    "1. それぞれの特徴量単体でモデルを評価し、最高精度の特徴量を選択する\n",
    "2. 残りの特徴量を一つ追加し、モデルを評価し、残りの特徴量全てに実施し最高精度の特徴量を選択する\n",
    "3. 2を最高精度を更新しなくなるまで繰り返す\n",
    "\n",
    "計算量が高くなりやすいので注意が必要。高精度なモデルが必要な際に有効。"
   ]
  },
  {
   "cell_type": "markdown",
   "id": "4a9f1941-a813-49a3-98ce-ee3517b65678",
   "metadata": {},
   "source": [
    "多項式特徴量と四則演算を用いた特徴量エンジニアリングを含む前処理を行う"
   ]
  },
  {
   "cell_type": "code",
   "execution_count": 39,
   "id": "0a7aa52f-19d2-4c26-85a7-98e2aee816d2",
   "metadata": {},
   "outputs": [],
   "source": [
    "import pandas as pd\n",
    "import numpy as np\n",
    "import seaborn as sns\n",
    "import matplotlib.pyplot as plt\n",
    "from sklearn.impute import SimpleImputer\n",
    "from sklearn.base import BaseEstimator, TransformerMixin\n",
    "from sklearn.preprocessing import PolynomialFeatures, StandardScaler\n",
    "from sklearn.pipeline import Pipeline\n",
    "from sklearn.linear_model import LogisticRegression\n",
    "from sklearn.model_selection import KFold, cross_val_score\n",
    "from sklearn.tree import DecisionTreeClassifier\n",
    "\n",
    "df = pd.read_csv(\"data/penguins_size.csv\")\n",
    "# sexカラムの誤字 \".\" を欠損値に変更する\n",
    "df.loc[df[df[\"sex\"] == \".\"].index, \"sex\"] = np.nan\n",
    "# 同じ行に欠損値が3つ以上ある場合はデータとしての情報が少ないのでdropしておく\n",
    "df.dropna(thresh=3, inplace=True)\n",
    "\n",
    "X = df.drop(\"species\", axis=1)\n",
    "y = df[\"species\"]\n",
    "\n",
    "# 欠損値代入\n",
    "imputer = SimpleImputer(strategy=\"constant\", fill_value=\"NaN\")\n",
    "imputer.set_output(transform=\"pandas\")\n",
    "imputer.fit_transform(X)\n",
    "\n",
    "# one-hot encoding\n",
    "# PipeLineに組み込むためのダミー変数生成クラスの自作--------------------\n",
    "class GetDummies(BaseEstimator, TransformerMixin):\n",
    "    def __init__(self):\n",
    "        self.columns = None\n",
    "        \n",
    "    def fit(self, X, y=None):\n",
    "        self.columns = pd.get_dummies(X).columns\n",
    "        return self\n",
    "    \n",
    "    def transform(self, X):\n",
    "        X_new = pd.get_dummies(X)\n",
    "        return X_new.reindex(columns=self.columns, fill_value=0)\n",
    "\n",
    "# 特徴量エンジニアリング\n",
    "# 多項式特徴量\n",
    "poly = PolynomialFeatures(degree=2, include_bias=False)\n",
    "X[[\"culmen_length_mm\", \"culmen_depth_mm\", \"culmen_length_mm^2\", \"culmen_depth_mm^2\", \"culmen_length_mm * culmen_depth_mm\"]] = poly.fit_transform(X[[\"culmen_length_mm\", \"culmen_depth_mm\"]])\n",
    "# 四則演算\n",
    "X[\"culmen_diff\"] = X[\"culmen_length_mm\"] - X[\"culmen_depth_mm\"]\n",
    "X[\"culmen_ratio\"] = X[\"culmen_length_mm\"] / X[\"culmen_depth_mm\"]\n",
    "\n",
    "# Pipeline\n",
    "pipeline = Pipeline([(\"dummy\", GetDummies()),\n",
    "          (\"scaler\", StandardScaler()),\n",
    "          (\"model\", LogisticRegression())])\n",
    "\n",
    "# cv\n",
    "cv = KFold(n_splits=3, random_state=0, shuffle=True)\n"
   ]
  },
  {
   "cell_type": "markdown",
   "id": "d41bb653-048f-4151-ab0e-868ba1dbf822",
   "metadata": {},
   "source": [
    "#### GreedyFeatureSelectionを行うクラスを作成する"
   ]
  },
  {
   "cell_type": "code",
   "execution_count": 40,
   "id": "0170ece2-11f9-46b2-a325-4107d5eee05a",
   "metadata": {},
   "outputs": [],
   "source": [
    "class GreedyFeatureSelection():\n",
    "    def __init__(self, pipeline, cv):\n",
    "        self.pipeline = pipeline\n",
    "        self.cv = cv\n",
    "        self.selected_features = []\n",
    "        # 各 iteration 毎の score の履歴\n",
    "        self.scores = [0]\n",
    "        \n",
    "    \n",
    "    def select_feature(self, X, y):\n",
    "        all_features = X.columns\n",
    "        \n",
    "        while True:\n",
    "            best_score = self.scores[-1]\n",
    "            candidate_feature = None\n",
    "            for feature in all_features:\n",
    "                if feature in self.selected_features:\n",
    "                    continue\n",
    "                    \n",
    "                features = self.selected_features + [feature]\n",
    "                X_train = X[features]\n",
    "                # 評価\n",
    "                score = cross_val_score(self.pipeline, X_train, y, cv=self.cv).mean()\n",
    "                if score > best_score:\n",
    "                    best_score = score\n",
    "                    candidate_feature = feature\n",
    "            \n",
    "            if candidate_feature is not None:\n",
    "                self.scores.append(best_score)\n",
    "                self.selected_features.append(candidate_feature)\n",
    "            else:\n",
    "                # candidate_featureがない、つまり、最高精度を更新しない場合にループを終了する\n",
    "                break\n",
    "\n",
    "gfs = GreedyFeatureSelection(pipeline=pipeline, cv=cv)\n",
    "gfs.select_feature(X, y)"
   ]
  },
  {
   "cell_type": "code",
   "execution_count": 41,
   "id": "9869233e-cacd-4f08-85c9-063a7e2a1272",
   "metadata": {},
   "outputs": [
    {
     "name": "stdout",
     "output_type": "stream",
     "text": [
      "[0, 0.9619883040935672, 0.9912280701754387, 0.9970760233918128, 1.0]\n"
     ]
    },
    {
     "data": {
      "text/plain": [
       "['culmen_ratio', 'island', 'culmen_diff', 'body_mass_g']"
      ]
     },
     "execution_count": 41,
     "metadata": {},
     "output_type": "execute_result"
    }
   ],
   "source": [
    "print(gfs.scores)\n",
    "gfs.selected_features"
   ]
  },
  {
   "cell_type": "markdown",
   "id": "b181e310-abe7-415e-b9a5-a3bdeb4c3af9",
   "metadata": {},
   "source": [
    "### recursive feature elimination(RFE)\n",
    "\n",
    "greedy feature selectionの逆で、全ての特徴量でモデルを構築してから特徴量を一つずつ減らしていく。\n",
    "\n",
    "1. 全ての特徴量でモデルを学習する\n",
    "2. モデルへの影響が最も低い特徴量を落とし、残りの特徴量でモデルを学習する\n",
    "3. 2を、指定した特徴量になるまで実施する\n",
    "\n",
    "線形回帰の係数(p値)や決定木の重要度などを使用する  \n",
    "重要度などの指標を持ったモデルを使用する必要がある。  "
   ]
  },
  {
   "cell_type": "code",
   "execution_count": 42,
   "id": "201bd7ba-2098-4814-b43a-bcf48252162d",
   "metadata": {},
   "outputs": [
    {
     "name": "stdout",
     "output_type": "stream",
     "text": [
      "[7 6 5 4 3 2 1 1 1 1 1 1]\n",
      "[False False False False False False  True  True  True  True  True  True]\n",
      "['culmen_length_mm' 'culmen_depth_mm' 'flipper_length_mm' 'body_mass_g'\n",
      " 'culmen_length_mm^2' 'culmen_depth_mm^2'\n",
      " 'culmen_length_mm * culmen_depth_mm' 'culmen_diff' 'culmen_ratio'\n",
      " 'island_Dream' 'island_Torgersen' 'sex_MALE']\n"
     ]
    },
    {
     "data": {
      "text/plain": [
       "array(['culmen_length_mm * culmen_depth_mm', 'culmen_diff',\n",
       "       'culmen_ratio', 'island_Dream', 'island_Torgersen', 'sex_MALE'],\n",
       "      dtype=object)"
      ]
     },
     "execution_count": 42,
     "metadata": {},
     "output_type": "execute_result"
    }
   ],
   "source": [
    "from sklearn.feature_selection import RFE\n",
    "\n",
    "rfe = RFE(estimator=DecisionTreeClassifier(), n_features_to_select=6)\n",
    "X = pd.get_dummies(X, drop_first=True)\n",
    "rfe.fit(X, y)\n",
    "rfe.transform(X)\n",
    "print(rfe.ranking_)\n",
    "# その特徴量が選択されたかどうかが rfe.support_ に格納されている\n",
    "print(rfe.support_)\n",
    "print(rfe.feature_names_in_)\n",
    "rfe.feature_names_in_[rfe.support_]"
   ]
  },
  {
   "cell_type": "code",
   "execution_count": 43,
   "id": "3e95295e-dde1-455b-8791-b4936ff5b49d",
   "metadata": {},
   "outputs": [
    {
     "name": "stdout",
     "output_type": "stream",
     "text": [
      "[0.99122807 0.99122807 0.99122807]\n"
     ]
    }
   ],
   "source": [
    "# RFEで選別された特徴量を用いて学習する\n",
    "pipeline = Pipeline([(\"rfe\", rfe), (\"scaler\", StandardScaler()), (\"model\", LogisticRegression())])\n",
    "scores = cross_val_score(pipeline, X, y, cv=cv)\n",
    "print(scores)"
   ]
  },
  {
   "cell_type": "markdown",
   "id": "367f8ece-dbe7-45b2-98fc-8bf6c394f2c2",
   "metadata": {},
   "source": [
    "RFECVを用いた場合"
   ]
  },
  {
   "cell_type": "code",
   "execution_count": 46,
   "id": "077a9f88-88c4-4ae5-aaef-76f9625360c6",
   "metadata": {},
   "outputs": [
    {
     "name": "stdout",
     "output_type": "stream",
     "text": [
      "['culmen_diff' 'culmen_ratio' 'island_Dream']\n"
     ]
    },
    {
     "data": {
      "text/plain": [
       "<ErrorbarContainer object of 3 artists>"
      ]
     },
     "execution_count": 46,
     "metadata": {},
     "output_type": "execute_result"
    },
    {
     "data": {
      "image/png": "[encoded data removed]",
      "text/plain": [
       "<Figure size 640x480 with 1 Axes>"
      ]
     },
     "metadata": {},
     "output_type": "display_data"
    }
   ],
   "source": [
    "from sklearn.feature_selection import RFECV\n",
    "# cv\n",
    "cv = KFold(n_splits=3, random_state=0, shuffle=True)\n",
    "rfecv = RFECV(estimator=DecisionTreeClassifier(), cv=cv)\n",
    "rfecv.fit(X, y)\n",
    "rfecv.transform(X)\n",
    "print(rfecv.feature_names_in_[rfecv.support_])\n",
    "plt.errorbar(range(1, 1+len(rfecv.cv_results_[\"mean_test_score\"])),\n",
    "             rfecv.cv_results_[\"mean_test_score\"],\n",
    "             yerr=rfecv.cv_results_[\"std_test_score\"]\n",
    "            )"
   ]
  },
  {
   "cell_type": "markdown",
   "id": "2febc726-5717-4677-8e1c-7f10ebdb02a7",
   "metadata": {},
   "source": [
    "3つ以上特徴量を増やしても精度が上がらないことがわかる。"
   ]
  },
  {
   "cell_type": "code",
   "execution_count": 47,
   "id": "0550c826-c364-4e0f-acfa-1eecc6df038e",
   "metadata": {},
   "outputs": [
    {
     "name": "stdout",
     "output_type": "stream",
     "text": [
      "[0.99122807 0.99122807 0.99122807]\n"
     ]
    }
   ],
   "source": [
    "# RFEで選別された特徴量を用いて学習する\n",
    "pipeline = Pipeline([(\"rfe\", rfe), (\"scaler\", StandardScaler()), (\"model\", LogisticRegression())])\n",
    "scores = cross_val_score(pipeline, X, y, cv=cv)\n",
    "print(scores)\n"
   ]
  },
  {
   "cell_type": "markdown",
   "id": "8fce04eb-baf8-47ab-8468-bac44ee1c870",
   "metadata": {},
   "source": [
    "## モデルの重要度から特徴量を選択する"
   ]
  },
  {
   "cell_type": "code",
   "execution_count": 64,
   "id": "e866004f-2837-4e1a-b94d-f1f638f437c8",
   "metadata": {},
   "outputs": [
    {
     "name": "stdout",
     "output_type": "stream",
     "text": [
      "全ての特徴量の名前\n",
      "['culmen_length_mm' 'culmen_depth_mm' 'flipper_length_mm' 'body_mass_g'\n",
      " 'culmen_length_mm^2' 'culmen_depth_mm^2'\n",
      " 'culmen_length_mm * culmen_depth_mm' 'culmen_diff' 'culmen_ratio'\n",
      " 'island_Dream' 'island_Torgersen' 'sex_MALE']\n",
      "各特徴量の重要度\n",
      "[0.09446744 0.07327896 0.1224425  0.05185592 0.08431536 0.02614093\n",
      " 0.05366813 0.19965974 0.18910682 0.10013683 0.00390842 0.00101895]\n",
      "各特徴量が選択されたかどうか\n",
      "[ True False  True False  True False False  True  True  True False False]\n",
      "選択された特徴量\n",
      "['culmen_length_mm' 'flipper_length_mm' 'culmen_length_mm^2' 'culmen_diff'\n",
      " 'culmen_ratio' 'island_Dream']\n",
      "選択されなかった特徴量\n",
      "['culmen_depth_mm' 'body_mass_g' 'culmen_depth_mm^2'\n",
      " 'culmen_length_mm * culmen_depth_mm' 'island_Torgersen' 'sex_MALE']\n"
     ]
    }
   ],
   "source": [
    "from sklearn.feature_selection import SelectFromModel\n",
    "from sklearn.ensemble import RandomForestClassifier\n",
    "sfm = SelectFromModel(RandomForestClassifier(random_state=0))\n",
    "X_selected = sfm.fit_transform(X, y)\n",
    "\n",
    "print(\"全ての特徴量の名前\")\n",
    "print(sfm.feature_names_in_)\n",
    "print(\"各特徴量の重要度\")\n",
    "print(sfm.estimator_.feature_importances_)\n",
    "# その特徴量が選択されたかどうかが sfm.get_support() に格納されている\n",
    "print(\"各特徴量が選択されたかどうか\")\n",
    "print(sfm.get_support())\n",
    "print(\"選択された特徴量\")\n",
    "print(sfm.feature_names_in_[sfm.get_support()])\n",
    "print(\"選択されなかった特徴量\")\n",
    "print(sfm.feature_names_in_[~sfm.get_support()])"
   ]
  },
  {
   "cell_type": "markdown",
   "id": "a4dde158-c148-4b80-b4b8-cef58d572428",
   "metadata": {},
   "source": [
    "## L1正則化項(Lasso)による特徴量選択\n",
    "λ を大きくするにつれて各特徴量の係数の絶対値が小さくなり、やがて 0 になる(**係数が0になった特徴量は選択されなかったということ**)  \n",
    "特徴量同士のスケールが影響するので、事前に特徴量スケーリングが必要"
   ]
  },
  {
   "cell_type": "code",
   "execution_count": 63,
   "id": "9f572c10-3d8e-446b-afe6-8542728b9010",
   "metadata": {},
   "outputs": [
    {
     "name": "stdout",
     "output_type": "stream",
     "text": [
      "全ての特徴量の名前\n",
      "['culmen_length_mm' 'culmen_depth_mm' 'flipper_length_mm' 'body_mass_g'\n",
      " 'culmen_length_mm^2' 'culmen_depth_mm^2'\n",
      " 'culmen_length_mm * culmen_depth_mm' 'culmen_diff' 'culmen_ratio'\n",
      " 'island_Dream' 'island_Torgersen' 'sex_MALE']\n",
      "各特徴量の係数\n",
      "[[ 0.          0.         -0.1821184   0.          0.          0.\n",
      "   0.01556229 -6.81806463 -0.18110548 -0.35634024  0.88627686  1.1764737 ]\n",
      " [ 4.21378354  0.          0.         -2.36863853  0.          0.14624182\n",
      "   0.          0.          0.          2.663117    0.         -0.75580557]\n",
      " [ 0.         -2.75521415  1.68573983  1.81079385  0.          0.\n",
      "   0.          0.          0.52695006 -0.24927811  0.          0.        ]]\n",
      "各特徴量が選択されたかどうか\n",
      "[ True  True  True  True False  True  True  True  True  True  True  True]\n",
      "選択された特徴量\n",
      "['culmen_length_mm' 'culmen_depth_mm' 'flipper_length_mm' 'body_mass_g'\n",
      " 'culmen_depth_mm^2' 'culmen_length_mm * culmen_depth_mm' 'culmen_diff'\n",
      " 'culmen_ratio' 'island_Dream' 'island_Torgersen' 'sex_MALE']\n",
      "選択されなかった特徴量\n",
      "['culmen_length_mm^2']\n"
     ]
    }
   ],
   "source": [
    "l1sfm = SelectFromModel(LogisticRegression(penalty=\"l1\", solver=\"liblinear\"))\n",
    "pipeline = Pipeline([(\"scaler\", StandardScaler()), (\"feature selection\", l1sfm)])\n",
    "pipeline.set_output(transform=\"pandas\")\n",
    "pipeline.fit_transform(X, y)\n",
    "\n",
    "print(\"全ての特徴量の名前\")\n",
    "print(l1sfm.feature_names_in_)\n",
    "print(\"各特徴量の係数\")\n",
    "print(l1sfm.estimator_.coef_)\n",
    "print(\"各特徴量が選択されたかどうか\")\n",
    "print(l1sfm.get_support())\n",
    "print(\"選択された特徴量\")\n",
    "print(l1sfm.feature_names_in_[l1sfm.get_support()])\n",
    "print(\"選択されなかった特徴量\")\n",
    "print(l1sfm.feature_names_in_[~l1sfm.get_support()])"
   ]
  },
  {
   "cell_type": "code",
   "execution_count": null,
   "id": "f66090d6-84bf-45b1-9b72-09ba0fb902d7",
   "metadata": {},
   "outputs": [],
   "source": []
  }
 ],
 "metadata": {
  "kernelspec": {
   "display_name": "Python 3 (ipykernel)",
   "language": "python",
   "name": "python3"
  },
  "language_info": {
   "codemirror_mode": {
    "name": "ipython",
    "version": 3
   },
   "file_extension": ".py",
   "mimetype": "text/x-python",
   "name": "python",
   "nbconvert_exporter": "python",
   "pygments_lexer": "ipython3",
   "version": "3.9.13"
  }
 },
 "nbformat": 4,
 "nbformat_minor": 5
}

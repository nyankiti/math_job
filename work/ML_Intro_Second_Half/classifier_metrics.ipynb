{
 "cells": [
  {
   "cell_type": "markdown",
   "id": "f3f1a3b1-1958-476d-8bdc-e1e564df3c9a",
   "metadata": {},
   "source": [
    "# 分類器の精度"
   ]
  },
  {
   "cell_type": "code",
   "execution_count": 1,
   "id": "cda0ee32-0324-4896-8724-dfe8b1cb6c3a",
   "metadata": {},
   "outputs": [],
   "source": [
    "import seaborn as sns\n",
    "import numpy as np\n",
    "import pandas as pd\n",
    "import matplotlib.pyplot as plt\n",
    "from sklearn.model_selection import train_test_split\n",
    "from sklearn.linear_model import LogisticRegression\n",
    "# データロード\n",
    "df = sns.load_dataset(\"iris\")\n",
    "y_col = \"species\"\n",
    "X = df.drop(columns=[y_col])\n",
    "y = df[y_col]\n",
    "# hold-out\n",
    "X_train, X_test, y_train, y_test = train_test_split(X, y, test_size=0.3, random_state=0)\n",
    "# モデル学習\n",
    "model = LogisticRegression(penalty=\"none\")\n",
    "model.fit(X_train, y_train)\n",
    "# 予測\n",
    "y_pred = model.predict(X_test)"
   ]
  },
  {
   "cell_type": "markdown",
   "id": "289de988-3366-46cc-b53d-3eb31f6fdd9e",
   "metadata": {
    "tags": []
   },
   "source": [
    "## 混同行列(confusion matrix)の表示\n",
    "ConfusionMatrixDisplayを用いてヒートマップの形でconfusionc matrixを出力すると、一目で見やすいグラフを出力してくれる"
   ]
  },
  {
   "cell_type": "code",
   "execution_count": 2,
   "id": "d9131877-95b8-4e96-bd01-98014aa423b1",
   "metadata": {},
   "outputs": [
    {
     "data": {
      "text/plain": [
       "<sklearn.metrics._plot.confusion_matrix.ConfusionMatrixDisplay at 0x404a083160>"
      ]
     },
     "execution_count": 2,
     "metadata": {},
     "output_type": "execute_result"
    },
    {
     "data": {
      "image/png": "[encoded data removed]",
      "text/plain": [
       "<Figure size 432x288 with 2 Axes>"
      ]
     },
     "metadata": {
      "needs_background": "light"
     },
     "output_type": "display_data"
    }
   ],
   "source": [
    "from sklearn.metrics import confusion_matrix, ConfusionMatrixDisplay\n",
    "cm = confusion_matrix(y_test, y_pred)\n",
    "disp = ConfusionMatrixDisplay(confusion_matrix=cm, display_labels=model.classes_)\n",
    "disp.plot()"
   ]
  },
  {
   "cell_type": "markdown",
   "id": "919fd044-4201-457b-9301-02dfaa1bfcee",
   "metadata": {
    "tags": []
   },
   "source": [
    "## Accuracy(正解率) "
   ]
  },
  {
   "cell_type": "code",
   "execution_count": 3,
   "id": "7f93e41c-8786-484e-bd75-08b43d1314af",
   "metadata": {},
   "outputs": [
    {
     "data": {
      "text/plain": [
       "0.9555555555555556"
      ]
     },
     "execution_count": 3,
     "metadata": {},
     "output_type": "execute_result"
    }
   ],
   "source": [
    "from sklearn.metrics import accuracy_score\n",
    "accuracy_score(y_test, y_pred)"
   ]
  },
  {
   "cell_type": "markdown",
   "id": "490c0382-c788-439e-8b56-b981478eb66f",
   "metadata": {},
   "source": [
    "## Precision"
   ]
  },
  {
   "cell_type": "code",
   "execution_count": 4,
   "id": "ffe79e60-49ed-476d-80c3-8861667ffe87",
   "metadata": {},
   "outputs": [
    {
     "data": {
      "text/plain": [
       "0.6"
      ]
     },
     "execution_count": 4,
     "metadata": {},
     "output_type": "execute_result"
    }
   ],
   "source": [
    "from sklearn.metrics import precision_score\n",
    "# サンプルデータ\n",
    "y_true = [1,1,0,1,0,0,1,1]\n",
    "y_pred = [1,1,1,0,0,1,0,1]\n",
    "precision_score(y_true, y_pred)"
   ]
  },
  {
   "cell_type": "markdown",
   "id": "0eeb9331-9614-4c93-bc11-3f23a9495e4d",
   "metadata": {},
   "source": [
    "## Recall"
   ]
  },
  {
   "cell_type": "code",
   "execution_count": 5,
   "id": "093dbd34-e5f6-432c-bcfc-9e0aa6062ab0",
   "metadata": {},
   "outputs": [
    {
     "data": {
      "text/plain": [
       "0.6"
      ]
     },
     "execution_count": 5,
     "metadata": {},
     "output_type": "execute_result"
    }
   ],
   "source": [
    "from sklearn.metrics import recall_score\n",
    "recall_score(y_true, y_pred)"
   ]
  },
  {
   "cell_type": "markdown",
   "id": "cb61eeb0-54fe-4c63-93f5-98e758c18906",
   "metadata": {},
   "source": [
    "## Specificity\n",
    "skleranにspecificiy_scoreは用意されていないので、recallと真偽値が逆の関係にあることを利用して、の真偽を逆にして算出する"
   ]
  },
  {
   "cell_type": "code",
   "execution_count": 6,
   "id": "9716469f-d680-468a-9ed4-2fd8356df4e8",
   "metadata": {},
   "outputs": [
    {
     "name": "stdout",
     "output_type": "stream",
     "text": [
      "[False False  True False  True  True False False]\n"
     ]
    },
    {
     "data": {
      "text/plain": [
       "0.3333333333333333"
      ]
     },
     "execution_count": 6,
     "metadata": {},
     "output_type": "execute_result"
    }
   ],
   "source": [
    "# 配列のそれぞれの要素に対して、 != 1 を適用することで真偽値を逆にするテクニック\n",
    "print(np.array(y_true) != 1)\n",
    "recall_score(np.array(y_true) != 1, np.array(y_pred) != 1)"
   ]
  },
  {
   "cell_type": "markdown",
   "id": "d01ed6cc-8f14-4328-a856-612b45042953",
   "metadata": {},
   "source": [
    "# 多クラス評価"
   ]
  },
  {
   "cell_type": "code",
   "execution_count": 7,
   "id": "d157e065-a017-4bef-84df-b4d4d840f1b1",
   "metadata": {},
   "outputs": [],
   "source": [
    "y_col = \"species\"\n",
    "X = df.drop(columns=[y_col])\n",
    "y = df[y_col]\n",
    "# hold-out\n",
    "X_train, X_test, y_train, y_test = train_test_split(X, y, test_size=0.3, random_state=0)\n",
    "# モデル学習\n",
    "model = LogisticRegression(penalty=\"none\")\n",
    "model.fit(X_train, y_train)\n",
    "# 予測\n",
    "y_pred = model.predict(X_test)"
   ]
  },
  {
   "cell_type": "code",
   "execution_count": 8,
   "id": "baf9b38a-14d4-4f7c-bbde-6df70e8ecbd3",
   "metadata": {},
   "outputs": [
    {
     "name": "stdout",
     "output_type": "stream",
     "text": [
      "[1.         0.94444444 0.90909091]\n",
      "macro average of precision: 0.9511784511784511\n",
      "macro average of recall: 0.9511784511784511\n",
      "micro average of precision: 0.9555555555555556\n",
      "micro average of precision: 0.9555555555555556\n",
      "accuracy: 0.9555555555555556\n"
     ]
    }
   ],
   "source": [
    "# 通常\n",
    "print(precision_score(y_test, y_pred, average=None))\n",
    "\n",
    "# マクロ平均\n",
    "print(\"macro average of precision:\",precision_score(y_test, y_pred, average=\"macro\"))\n",
    "print(\"macro average of recall:\",recall_score(y_test, y_pred, average=\"macro\"))\n",
    "\n",
    "# マイクロ平均\n",
    "print(\"micro average of precision:\", precision_score(y_test, y_pred, average=\"micro\"))\n",
    "print(\"micro average of precision:\",recall_score(y_test, y_pred, average=\"micro\"))\n",
    "\n",
    "# accuracyとprecision, recall, specificityのmicro平均は同じ値になる!\n",
    "print(\"accuracy:\",accuracy_score(y_test, y_pred))\n"
   ]
  },
  {
   "cell_type": "markdown",
   "id": "e758b0ff-6781-4e15-89a5-4a4d32664f8c",
   "metadata": {},
   "source": [
    "# Precision Recall Curve"
   ]
  },
  {
   "cell_type": "code",
   "execution_count": 9,
   "id": "ba23491d-89df-476e-8649-3d22d7287446",
   "metadata": {},
   "outputs": [],
   "source": [
    "# 患者の情報と、その感情が心臓病を患っているかどうかのデータ(kaggleのデータ)\n",
    "df = pd.read_csv(\"heart_preprocessed.csv\")\n",
    "y_col = \"target\"\n",
    "X = df.drop(columns=[y_col])\n",
    "y = df[y_col]\n",
    "X_train, X_test, y_train, y_test = train_test_split(X, y, test_size=0.3, random_state=0)\n",
    "# モデル構築(データの前処理後のcsvファイルを持ちている)\n",
    "model = LogisticRegression(solver=\"liblinear\")\n",
    "model.fit(X_train, y_train)\n",
    "y_pred_proba = model.predict_proba(X_test)"
   ]
  },
  {
   "cell_type": "code",
   "execution_count": 10,
   "id": "b687e9d9-cdab-4cd7-a863-3f3b2a2aab5b",
   "metadata": {},
   "outputs": [],
   "source": [
    "from sklearn.metrics import precision_recall_curve\n",
    "precision, recall, thresholds = precision_recall_curve(y_test, y_pred_proba[:, 1])"
   ]
  },
  {
   "cell_type": "code",
   "execution_count": 11,
   "id": "979ae65a-7037-4dd3-8e06-3f9bbf217a54",
   "metadata": {},
   "outputs": [
    {
     "data": {
      "text/plain": [
       "Text(0.5, 1.0, 'Precision Recall Curve')"
      ]
     },
     "execution_count": 11,
     "metadata": {},
     "output_type": "execute_result"
    },
    {
     "data": {
      "image/png": "[encoded data removed]",
      "text/plain": [
       "<Figure size 432x288 with 1 Axes>"
      ]
     },
     "metadata": {
      "needs_background": "light"
     },
     "output_type": "display_data"
    }
   ],
   "source": [
    "plt.plot(recall, precision)\n",
    "plt.xlabel(\"recall\")\n",
    "plt.ylabel(\"precision\")\n",
    "plt.title(\"Precision Recall Curve\")"
   ]
  },
  {
   "cell_type": "markdown",
   "id": "531facb4-95bb-4d3a-ad90-4a431411c201",
   "metadata": {},
   "source": [
    "## F値"
   ]
  },
  {
   "cell_type": "code",
   "execution_count": 12,
   "id": "f35e6dfc-0450-4499-a0b2-00285ad69701",
   "metadata": {},
   "outputs": [
    {
     "name": "stdout",
     "output_type": "stream",
     "text": [
      "0.4444444444444445\n",
      "0.4444444444444444\n"
     ]
    }
   ],
   "source": [
    "from sklearn.metrics import f1_score\n",
    "y_true = [1,0,0,1,0,0,1,1]\n",
    "y_pred = [1,1,1,0,0,1,0,1]\n",
    "f_score = f1_score(y_true, y_pred)\n",
    "\n",
    "# 調和平均と一致しているかどうかをチェックする\n",
    "from scipy.stats import hmean\n",
    "recall = recall_score(y_true, y_pred)\n",
    "precision= precision_score(y_true, y_pred)\n",
    "hm = hmean([recall, precision])\n",
    "\n",
    "print(f_score)\n",
    "print(hm)"
   ]
  },
  {
   "cell_type": "markdown",
   "id": "5fc3cdbb-04a6-404d-8e9f-8707d723ccdd",
   "metadata": {},
   "source": [
    "## ROC(Receiver Operating Charactaristic) curveを描画する"
   ]
  },
  {
   "cell_type": "code",
   "execution_count": 17,
   "id": "b5c099f0-fcfd-45bc-860e-320c02b607ab",
   "metadata": {},
   "outputs": [
    {
     "data": {
      "image/png": "[encoded data removed]",
      "text/plain": [
       "<Figure size 432x288 with 1 Axes>"
      ]
     },
     "metadata": {
      "needs_background": "light"
     },
     "output_type": "display_data"
    }
   ],
   "source": [
    "from sklearn.metrics import roc_curve\n",
    "fpr, tpr, thresholds = roc_curve(y_test, y_pred_proba[:, 1])\n",
    "# 描画\n",
    "plt.plot(fpr, tpr)\n",
    "plt.xlabel(\"1-spacificity(FPR)\")\n",
    "plt.ylabel(\"sensitivity(TPR)\")\n",
    "plt.title(\"ROC curve\")\n",
    "plt.show()"
   ]
  },
  {
   "cell_type": "markdown",
   "id": "0568fbb9-8432-4243-a508-ec10acfe64c0",
   "metadata": {},
   "source": [
    "## AUCを計算する"
   ]
  },
  {
   "cell_type": "code",
   "execution_count": 20,
   "id": "d58d5d53-d775-4237-8577-160107433d75",
   "metadata": {},
   "outputs": [
    {
     "data": {
      "text/plain": [
       "0.919542785981142"
      ]
     },
     "execution_count": 20,
     "metadata": {},
     "output_type": "execute_result"
    }
   ],
   "source": [
    "from sklearn.metrics import auc\n",
    "auc(fpr, tpr)"
   ]
  },
  {
   "cell_type": "markdown",
   "id": "c67d672f-2045-4fcc-bc5d-e286dbade075",
   "metadata": {},
   "source": []
  }
 ],
 "metadata": {
  "kernelspec": {
   "display_name": "Python 3 (ipykernel)",
   "language": "python",
   "name": "python3"
  },
  "language_info": {
   "codemirror_mode": {
    "name": "ipython",
    "version": 3
   },
   "file_extension": ".py",
   "mimetype": "text/x-python",
   "name": "python",
   "nbconvert_exporter": "python",
   "pygments_lexer": "ipython3",
   "version": "3.9.12"
  }
 },
 "nbformat": 4,
 "nbformat_minor": 5
}
